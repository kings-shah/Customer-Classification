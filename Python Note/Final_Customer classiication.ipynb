{
 "cells": [
  {
   "cell_type": "code",
   "execution_count": 42,
   "metadata": {},
   "outputs": [],
   "source": [
    "import numpy as np                     \n",
    "\n",
    "import pandas as pd\n",
    "pd.set_option('mode.chained_assignment', None)      # To suppress pandas warnings.\n",
    "pd.set_option('display.max_colwidth', None)         # To display all the data in each column\n",
    "pd.set_option('display.max_columns', None)          # To display every column of the dataset in head()\n",
    "\n",
    "import warnings\n",
    "warnings.filterwarnings('ignore')                   # To suppress all the warnings in the notebook."
   ]
  },
  {
   "cell_type": "code",
   "execution_count": 43,
   "metadata": {},
   "outputs": [],
   "source": [
    "cust=pd.read_csv('existing_base_train.csv')"
   ]
  },
  {
   "cell_type": "code",
   "execution_count": 44,
   "metadata": {},
   "outputs": [
    {
     "data": {
      "text/plain": [
       "(8124, 32)"
      ]
     },
     "execution_count": 44,
     "metadata": {},
     "output_type": "execute_result"
    }
   ],
   "source": [
    "cust.shape"
   ]
  },
  {
   "cell_type": "code",
   "execution_count": 45,
   "metadata": {},
   "outputs": [
    {
     "data": {
      "text/plain": [
       "2    7264\n",
       "1     860\n",
       "Name: Revenue_Grid, dtype: int64"
      ]
     },
     "execution_count": 45,
     "metadata": {},
     "output_type": "execute_result"
    }
   ],
   "source": [
    "cust.Revenue_Grid.value_counts()"
   ]
  },
  {
   "cell_type": "markdown",
   "metadata": {},
   "source": [
    "# Feature Engineering "
   ]
  },
  {
   "cell_type": "code",
   "execution_count": 46,
   "metadata": {},
   "outputs": [
    {
     "data": {
      "text/plain": [
       "(8124, 38)"
      ]
     },
     "execution_count": 46,
     "metadata": {},
     "output_type": "execute_result"
    }
   ],
   "source": [
    "def home_stat(g): \n",
    "    if g =='Own Home':\n",
    "        return 'Owner'\n",
    "    elif g == 'Rent Privately':\n",
    "        return 'Rent'\n",
    "    elif g == 'Rent from Council/HA':\n",
    "        return 'Rent'\n",
    "    elif g == 'Live in Parental Hom':\n",
    "        return 'Rent'\n",
    "    elif g in 'Unclassified':\n",
    "        return 'Rent'\n",
    "working=['Professional','Manual Worker','Business Manager','Secretarial/Admin','Other']\n",
    "non_working=['Retired','Housewife','Student']\n",
    "def occ(g):\n",
    "    if (g.occupation in working) & (g.occupation_partner in working):\n",
    "        return 'both_working'\n",
    "    elif (g.occupation in non_working) & (g.occupation_partner in non_working):\n",
    "        return 'both_non_working'\n",
    "    else:\n",
    "        return 'single'\n",
    "def self_emp(g):\n",
    "    if (g.self_employed == 'Yes') & (g.self_employed_partner == 'Yes'):\n",
    "        return 'both_yes'\n",
    "    elif (g.self_employed == 'No') & (g.self_employed_partner == 'No'):\n",
    "        return 'both_no'\n",
    "    else:\n",
    "        return 'single'\n",
    "\n",
    "def feature_engg():\n",
    "    cust['children']=cust['children'].replace('Zero','0')\n",
    "    cust['children']=cust['children'].replace('4+','4')\n",
    "    cust['family_income']=cust['family_income'].replace(['>=35,000','<22,500, >=20,000','<25,000, >=22,500','<30,000, >=27,500', '<20,000, >=17,500','<27,500, >=25,000','< 4,000', '<15,000, >=12,500', '<17,500, >=15,000','< 8,000, >= 4,000', '<12,500, >=10,000', '<10,000, >= 8,000'],['35000+','20,000-22,500','22,500-25,000','27,500-27,500','17,500-20,000','25,000-27,500','0-4,000','12,500-15,000','15,000-17,500','4,000-8,000','10,000-12,500','8,000-10,000'])\n",
    "    cust['total_invest']=cust.Investment_in_Mutual_Fund+cust.Investment_Tax_Saving_Bond+cust.Portfolio_Balance\n",
    "    cust['total_loan']=cust.Personal_Loan+cust.Home_Loan\n",
    "    cust['total_isurance']=cust.Life_Insurance+cust.Medical_Insurance\n",
    "    cust['home_status_new']=cust['home_status'].apply(home_stat)\n",
    "    cust['occupation_Status_new']=cust.apply(occ,axis=1)\n",
    "    cust['self_employed_new']=cust.apply(self_emp,axis=1)\n",
    "feature_engg()\n",
    "cust.shape"
   ]
  },
  {
   "cell_type": "code",
   "execution_count": 47,
   "metadata": {},
   "outputs": [
    {
     "data": {
      "text/plain": [
       "(8124, 38)"
      ]
     },
     "execution_count": 47,
     "metadata": {},
     "output_type": "execute_result"
    }
   ],
   "source": [
    "cust.shape"
   ]
  },
  {
   "cell_type": "code",
   "execution_count": 48,
   "metadata": {},
   "outputs": [],
   "source": [
    "cust_new=cust[['REF_NO','children','age_band','status','family_income','post_area','Average_Credit_Card_Transaction','Balance_Transfer','Term_Deposit', 'total_isurance','Average_A/C_Balance','Online_Purchase_Amount','gender', 'region','total_invest', 'total_loan', 'home_status_new','occupation_Status_new', 'self_employed_new','Revenue_Grid']]"
   ]
  },
  {
   "cell_type": "markdown",
   "metadata": {},
   "source": [
    "# One hot encoding"
   ]
  },
  {
   "cell_type": "code",
   "execution_count": 49,
   "metadata": {},
   "outputs": [
    {
     "data": {
      "text/html": [
       "<div>\n",
       "<style scoped>\n",
       "    .dataframe tbody tr th:only-of-type {\n",
       "        vertical-align: middle;\n",
       "    }\n",
       "\n",
       "    .dataframe tbody tr th {\n",
       "        vertical-align: top;\n",
       "    }\n",
       "\n",
       "    .dataframe thead th {\n",
       "        text-align: right;\n",
       "    }\n",
       "</style>\n",
       "<table border=\"1\" class=\"dataframe\">\n",
       "  <thead>\n",
       "    <tr style=\"text-align: right;\">\n",
       "      <th></th>\n",
       "      <th>REF_NO</th>\n",
       "      <th>children</th>\n",
       "      <th>age_band</th>\n",
       "      <th>status</th>\n",
       "      <th>family_income</th>\n",
       "      <th>post_area</th>\n",
       "      <th>Average_Credit_Card_Transaction</th>\n",
       "      <th>Balance_Transfer</th>\n",
       "      <th>Term_Deposit</th>\n",
       "      <th>total_isurance</th>\n",
       "      <th>Average_A/C_Balance</th>\n",
       "      <th>Online_Purchase_Amount</th>\n",
       "      <th>gender</th>\n",
       "      <th>region</th>\n",
       "      <th>total_invest</th>\n",
       "      <th>total_loan</th>\n",
       "      <th>home_status_new</th>\n",
       "      <th>occupation_Status_new</th>\n",
       "      <th>self_employed_new</th>\n",
       "      <th>Revenue_Grid</th>\n",
       "      <th>home_status_new_Rent</th>\n",
       "      <th>occupation_Status_new_both_working</th>\n",
       "      <th>occupation_Status_new_single</th>\n",
       "      <th>self_employed_new_both_yes</th>\n",
       "      <th>self_employed_new_single</th>\n",
       "    </tr>\n",
       "  </thead>\n",
       "  <tbody>\n",
       "    <tr>\n",
       "      <th>0</th>\n",
       "      <td>5466</td>\n",
       "      <td>2</td>\n",
       "      <td>31-35</td>\n",
       "      <td>Partner</td>\n",
       "      <td>35000+</td>\n",
       "      <td>M51</td>\n",
       "      <td>26.98</td>\n",
       "      <td>29.99</td>\n",
       "      <td>312.25</td>\n",
       "      <td>388.51</td>\n",
       "      <td>108.85</td>\n",
       "      <td>7.68</td>\n",
       "      <td>Female</td>\n",
       "      <td>North West</td>\n",
       "      <td>503.70</td>\n",
       "      <td>230.87</td>\n",
       "      <td>Owner</td>\n",
       "      <td>both_working</td>\n",
       "      <td>both_no</td>\n",
       "      <td>2</td>\n",
       "      <td>0</td>\n",
       "      <td>1</td>\n",
       "      <td>0</td>\n",
       "      <td>0</td>\n",
       "      <td>0</td>\n",
       "    </tr>\n",
       "    <tr>\n",
       "      <th>1</th>\n",
       "      <td>9091</td>\n",
       "      <td>0</td>\n",
       "      <td>45-50</td>\n",
       "      <td>Partner</td>\n",
       "      <td>35000+</td>\n",
       "      <td>L40</td>\n",
       "      <td>35.98</td>\n",
       "      <td>74.48</td>\n",
       "      <td>0.00</td>\n",
       "      <td>110.95</td>\n",
       "      <td>48.45</td>\n",
       "      <td>18.99</td>\n",
       "      <td>Female</td>\n",
       "      <td>North West</td>\n",
       "      <td>89.22</td>\n",
       "      <td>15.99</td>\n",
       "      <td>Owner</td>\n",
       "      <td>both_working</td>\n",
       "      <td>both_no</td>\n",
       "      <td>2</td>\n",
       "      <td>0</td>\n",
       "      <td>1</td>\n",
       "      <td>0</td>\n",
       "      <td>0</td>\n",
       "      <td>0</td>\n",
       "    </tr>\n",
       "    <tr>\n",
       "      <th>2</th>\n",
       "      <td>9744</td>\n",
       "      <td>1</td>\n",
       "      <td>36-40</td>\n",
       "      <td>Partner</td>\n",
       "      <td>20,000-22,500</td>\n",
       "      <td>TA19</td>\n",
       "      <td>0.00</td>\n",
       "      <td>24.46</td>\n",
       "      <td>0.00</td>\n",
       "      <td>18.44</td>\n",
       "      <td>0.00</td>\n",
       "      <td>0.00</td>\n",
       "      <td>Female</td>\n",
       "      <td>South West</td>\n",
       "      <td>24.96</td>\n",
       "      <td>0.02</td>\n",
       "      <td>Rent</td>\n",
       "      <td>both_working</td>\n",
       "      <td>both_yes</td>\n",
       "      <td>2</td>\n",
       "      <td>1</td>\n",
       "      <td>1</td>\n",
       "      <td>0</td>\n",
       "      <td>1</td>\n",
       "      <td>0</td>\n",
       "    </tr>\n",
       "    <tr>\n",
       "      <th>3</th>\n",
       "      <td>10700</td>\n",
       "      <td>2</td>\n",
       "      <td>31-35</td>\n",
       "      <td>Partner</td>\n",
       "      <td>22,500-25,000</td>\n",
       "      <td>FK2</td>\n",
       "      <td>44.99</td>\n",
       "      <td>0.00</td>\n",
       "      <td>0.00</td>\n",
       "      <td>29.99</td>\n",
       "      <td>0.00</td>\n",
       "      <td>0.00</td>\n",
       "      <td>Female</td>\n",
       "      <td>Scotland</td>\n",
       "      <td>68.98</td>\n",
       "      <td>0.00</td>\n",
       "      <td>Owner</td>\n",
       "      <td>both_working</td>\n",
       "      <td>both_no</td>\n",
       "      <td>2</td>\n",
       "      <td>0</td>\n",
       "      <td>1</td>\n",
       "      <td>0</td>\n",
       "      <td>0</td>\n",
       "      <td>0</td>\n",
       "    </tr>\n",
       "    <tr>\n",
       "      <th>4</th>\n",
       "      <td>1987</td>\n",
       "      <td>0</td>\n",
       "      <td>55-60</td>\n",
       "      <td>Partner</td>\n",
       "      <td>35000+</td>\n",
       "      <td>LS23</td>\n",
       "      <td>0.00</td>\n",
       "      <td>0.00</td>\n",
       "      <td>0.00</td>\n",
       "      <td>0.00</td>\n",
       "      <td>0.00</td>\n",
       "      <td>0.00</td>\n",
       "      <td>Female</td>\n",
       "      <td>Unknown</td>\n",
       "      <td>11.86</td>\n",
       "      <td>0.00</td>\n",
       "      <td>Owner</td>\n",
       "      <td>single</td>\n",
       "      <td>both_no</td>\n",
       "      <td>2</td>\n",
       "      <td>0</td>\n",
       "      <td>0</td>\n",
       "      <td>1</td>\n",
       "      <td>0</td>\n",
       "      <td>0</td>\n",
       "    </tr>\n",
       "  </tbody>\n",
       "</table>\n",
       "</div>"
      ],
      "text/plain": [
       "   REF_NO children age_band   status  family_income post_area  \\\n",
       "0    5466        2    31-35  Partner         35000+       M51   \n",
       "1    9091        0    45-50  Partner         35000+       L40   \n",
       "2    9744        1    36-40  Partner  20,000-22,500      TA19   \n",
       "3   10700        2    31-35  Partner  22,500-25,000       FK2   \n",
       "4    1987        0    55-60  Partner         35000+      LS23   \n",
       "\n",
       "   Average_Credit_Card_Transaction  Balance_Transfer  Term_Deposit  \\\n",
       "0                            26.98             29.99        312.25   \n",
       "1                            35.98             74.48          0.00   \n",
       "2                             0.00             24.46          0.00   \n",
       "3                            44.99              0.00          0.00   \n",
       "4                             0.00              0.00          0.00   \n",
       "\n",
       "   total_isurance  Average_A/C_Balance  Online_Purchase_Amount  gender  \\\n",
       "0          388.51               108.85                    7.68  Female   \n",
       "1          110.95                48.45                   18.99  Female   \n",
       "2           18.44                 0.00                    0.00  Female   \n",
       "3           29.99                 0.00                    0.00  Female   \n",
       "4            0.00                 0.00                    0.00  Female   \n",
       "\n",
       "       region  total_invest  total_loan home_status_new occupation_Status_new  \\\n",
       "0  North West        503.70      230.87           Owner          both_working   \n",
       "1  North West         89.22       15.99           Owner          both_working   \n",
       "2  South West         24.96        0.02            Rent          both_working   \n",
       "3    Scotland         68.98        0.00           Owner          both_working   \n",
       "4     Unknown         11.86        0.00           Owner                single   \n",
       "\n",
       "  self_employed_new  Revenue_Grid  home_status_new_Rent  \\\n",
       "0           both_no             2                     0   \n",
       "1           both_no             2                     0   \n",
       "2          both_yes             2                     1   \n",
       "3           both_no             2                     0   \n",
       "4           both_no             2                     0   \n",
       "\n",
       "   occupation_Status_new_both_working  occupation_Status_new_single  \\\n",
       "0                                   1                             0   \n",
       "1                                   1                             0   \n",
       "2                                   1                             0   \n",
       "3                                   1                             0   \n",
       "4                                   0                             1   \n",
       "\n",
       "   self_employed_new_both_yes  self_employed_new_single  \n",
       "0                           0                         0  \n",
       "1                           0                         0  \n",
       "2                           1                         0  \n",
       "3                           0                         0  \n",
       "4                           0                         0  "
      ]
     },
     "execution_count": 49,
     "metadata": {},
     "output_type": "execute_result"
    }
   ],
   "source": [
    "def encoding_stat(cust_new):\n",
    "    stat=pd.get_dummies(cust_new.status)\n",
    "    stat.head(10)\n",
    "    stat.drop('Unknown',axis=1,inplace=True)\n",
    "    cust_new=pd.concat([cust_new,stat],axis=1)\n",
    "    return cust_new\n",
    "encoding_stat(cust_new)\n",
    "\n",
    "def encoding(cust_new):\n",
    "    cat_columns=['home_status_new','occupation_Status_new','self_employed_new']\n",
    "    cat_dum=pd.get_dummies(cust_new[cat_columns],drop_first=True)\n",
    "    cust_new=pd.concat([cust_new,cat_dum],axis=1).head()\n",
    "    return cust_new\n",
    "encoding(cust_new)"
   ]
  },
  {
   "cell_type": "code",
   "execution_count": 50,
   "metadata": {},
   "outputs": [],
   "source": [
    "cust_new.drop(['home_status_new','occupation_Status_new','self_employed_new','status'],axis=1,inplace=True)"
   ]
  },
  {
   "cell_type": "code",
   "execution_count": 51,
   "metadata": {},
   "outputs": [
    {
     "data": {
      "text/html": [
       "<div>\n",
       "<style scoped>\n",
       "    .dataframe tbody tr th:only-of-type {\n",
       "        vertical-align: middle;\n",
       "    }\n",
       "\n",
       "    .dataframe tbody tr th {\n",
       "        vertical-align: top;\n",
       "    }\n",
       "\n",
       "    .dataframe thead th {\n",
       "        text-align: right;\n",
       "    }\n",
       "</style>\n",
       "<table border=\"1\" class=\"dataframe\">\n",
       "  <thead>\n",
       "    <tr style=\"text-align: right;\">\n",
       "      <th></th>\n",
       "      <th>REF_NO</th>\n",
       "      <th>children</th>\n",
       "      <th>age_band</th>\n",
       "      <th>family_income</th>\n",
       "      <th>post_area</th>\n",
       "      <th>Average_Credit_Card_Transaction</th>\n",
       "      <th>Balance_Transfer</th>\n",
       "      <th>Term_Deposit</th>\n",
       "      <th>total_isurance</th>\n",
       "      <th>Average_A/C_Balance</th>\n",
       "      <th>Online_Purchase_Amount</th>\n",
       "      <th>gender</th>\n",
       "      <th>region</th>\n",
       "      <th>total_invest</th>\n",
       "      <th>total_loan</th>\n",
       "      <th>Revenue_Grid</th>\n",
       "      <th>Female</th>\n",
       "      <th>Male</th>\n",
       "    </tr>\n",
       "  </thead>\n",
       "  <tbody>\n",
       "    <tr>\n",
       "      <th>0</th>\n",
       "      <td>5466</td>\n",
       "      <td>2</td>\n",
       "      <td>31-35</td>\n",
       "      <td>35000+</td>\n",
       "      <td>M51</td>\n",
       "      <td>26.98</td>\n",
       "      <td>29.99</td>\n",
       "      <td>312.25</td>\n",
       "      <td>388.51</td>\n",
       "      <td>108.85</td>\n",
       "      <td>7.68</td>\n",
       "      <td>Female</td>\n",
       "      <td>North West</td>\n",
       "      <td>503.70</td>\n",
       "      <td>230.87</td>\n",
       "      <td>2</td>\n",
       "      <td>1</td>\n",
       "      <td>0</td>\n",
       "    </tr>\n",
       "    <tr>\n",
       "      <th>1</th>\n",
       "      <td>9091</td>\n",
       "      <td>0</td>\n",
       "      <td>45-50</td>\n",
       "      <td>35000+</td>\n",
       "      <td>L40</td>\n",
       "      <td>35.98</td>\n",
       "      <td>74.48</td>\n",
       "      <td>0.00</td>\n",
       "      <td>110.95</td>\n",
       "      <td>48.45</td>\n",
       "      <td>18.99</td>\n",
       "      <td>Female</td>\n",
       "      <td>North West</td>\n",
       "      <td>89.22</td>\n",
       "      <td>15.99</td>\n",
       "      <td>2</td>\n",
       "      <td>1</td>\n",
       "      <td>0</td>\n",
       "    </tr>\n",
       "    <tr>\n",
       "      <th>2</th>\n",
       "      <td>9744</td>\n",
       "      <td>1</td>\n",
       "      <td>36-40</td>\n",
       "      <td>20,000-22,500</td>\n",
       "      <td>TA19</td>\n",
       "      <td>0.00</td>\n",
       "      <td>24.46</td>\n",
       "      <td>0.00</td>\n",
       "      <td>18.44</td>\n",
       "      <td>0.00</td>\n",
       "      <td>0.00</td>\n",
       "      <td>Female</td>\n",
       "      <td>South West</td>\n",
       "      <td>24.96</td>\n",
       "      <td>0.02</td>\n",
       "      <td>2</td>\n",
       "      <td>1</td>\n",
       "      <td>0</td>\n",
       "    </tr>\n",
       "    <tr>\n",
       "      <th>3</th>\n",
       "      <td>10700</td>\n",
       "      <td>2</td>\n",
       "      <td>31-35</td>\n",
       "      <td>22,500-25,000</td>\n",
       "      <td>FK2</td>\n",
       "      <td>44.99</td>\n",
       "      <td>0.00</td>\n",
       "      <td>0.00</td>\n",
       "      <td>29.99</td>\n",
       "      <td>0.00</td>\n",
       "      <td>0.00</td>\n",
       "      <td>Female</td>\n",
       "      <td>Scotland</td>\n",
       "      <td>68.98</td>\n",
       "      <td>0.00</td>\n",
       "      <td>2</td>\n",
       "      <td>1</td>\n",
       "      <td>0</td>\n",
       "    </tr>\n",
       "    <tr>\n",
       "      <th>4</th>\n",
       "      <td>1987</td>\n",
       "      <td>0</td>\n",
       "      <td>55-60</td>\n",
       "      <td>35000+</td>\n",
       "      <td>LS23</td>\n",
       "      <td>0.00</td>\n",
       "      <td>0.00</td>\n",
       "      <td>0.00</td>\n",
       "      <td>0.00</td>\n",
       "      <td>0.00</td>\n",
       "      <td>0.00</td>\n",
       "      <td>Female</td>\n",
       "      <td>Unknown</td>\n",
       "      <td>11.86</td>\n",
       "      <td>0.00</td>\n",
       "      <td>2</td>\n",
       "      <td>1</td>\n",
       "      <td>0</td>\n",
       "    </tr>\n",
       "    <tr>\n",
       "      <th>...</th>\n",
       "      <td>...</td>\n",
       "      <td>...</td>\n",
       "      <td>...</td>\n",
       "      <td>...</td>\n",
       "      <td>...</td>\n",
       "      <td>...</td>\n",
       "      <td>...</td>\n",
       "      <td>...</td>\n",
       "      <td>...</td>\n",
       "      <td>...</td>\n",
       "      <td>...</td>\n",
       "      <td>...</td>\n",
       "      <td>...</td>\n",
       "      <td>...</td>\n",
       "      <td>...</td>\n",
       "      <td>...</td>\n",
       "      <td>...</td>\n",
       "      <td>...</td>\n",
       "    </tr>\n",
       "    <tr>\n",
       "      <th>8119</th>\n",
       "      <td>6516</td>\n",
       "      <td>3</td>\n",
       "      <td>36-40</td>\n",
       "      <td>17,500-20,000</td>\n",
       "      <td>L33</td>\n",
       "      <td>0.00</td>\n",
       "      <td>0.00</td>\n",
       "      <td>0.00</td>\n",
       "      <td>0.00</td>\n",
       "      <td>0.00</td>\n",
       "      <td>0.00</td>\n",
       "      <td>Male</td>\n",
       "      <td>North West</td>\n",
       "      <td>15.23</td>\n",
       "      <td>0.00</td>\n",
       "      <td>2</td>\n",
       "      <td>0</td>\n",
       "      <td>1</td>\n",
       "    </tr>\n",
       "    <tr>\n",
       "      <th>8120</th>\n",
       "      <td>5897</td>\n",
       "      <td>0</td>\n",
       "      <td>61-65</td>\n",
       "      <td>4,000-8,000</td>\n",
       "      <td>DE6</td>\n",
       "      <td>0.00</td>\n",
       "      <td>0.00</td>\n",
       "      <td>9.49</td>\n",
       "      <td>0.00</td>\n",
       "      <td>2.99</td>\n",
       "      <td>0.00</td>\n",
       "      <td>Female</td>\n",
       "      <td>East Midlands</td>\n",
       "      <td>115.18</td>\n",
       "      <td>0.00</td>\n",
       "      <td>2</td>\n",
       "      <td>1</td>\n",
       "      <td>0</td>\n",
       "    </tr>\n",
       "    <tr>\n",
       "      <th>8121</th>\n",
       "      <td>6130</td>\n",
       "      <td>1</td>\n",
       "      <td>41-45</td>\n",
       "      <td>4,000-8,000</td>\n",
       "      <td>BT28</td>\n",
       "      <td>0.00</td>\n",
       "      <td>107.42</td>\n",
       "      <td>0.00</td>\n",
       "      <td>47.41</td>\n",
       "      <td>38.95</td>\n",
       "      <td>0.00</td>\n",
       "      <td>Female</td>\n",
       "      <td>Northern Ireland</td>\n",
       "      <td>208.43</td>\n",
       "      <td>3.72</td>\n",
       "      <td>2</td>\n",
       "      <td>1</td>\n",
       "      <td>0</td>\n",
       "    </tr>\n",
       "    <tr>\n",
       "      <th>8122</th>\n",
       "      <td>980</td>\n",
       "      <td>0</td>\n",
       "      <td>61-65</td>\n",
       "      <td>0-4,000</td>\n",
       "      <td>CT10</td>\n",
       "      <td>0.00</td>\n",
       "      <td>59.48</td>\n",
       "      <td>0.00</td>\n",
       "      <td>0.00</td>\n",
       "      <td>0.00</td>\n",
       "      <td>0.00</td>\n",
       "      <td>Female</td>\n",
       "      <td>South East</td>\n",
       "      <td>-9.19</td>\n",
       "      <td>0.00</td>\n",
       "      <td>2</td>\n",
       "      <td>1</td>\n",
       "      <td>0</td>\n",
       "    </tr>\n",
       "    <tr>\n",
       "      <th>8123</th>\n",
       "      <td>8267</td>\n",
       "      <td>3</td>\n",
       "      <td>41-45</td>\n",
       "      <td>22,500-25,000</td>\n",
       "      <td>TS16</td>\n",
       "      <td>73.96</td>\n",
       "      <td>74.47</td>\n",
       "      <td>42.98</td>\n",
       "      <td>140.94</td>\n",
       "      <td>51.46</td>\n",
       "      <td>3.99</td>\n",
       "      <td>Male</td>\n",
       "      <td>North</td>\n",
       "      <td>234.70</td>\n",
       "      <td>100.39</td>\n",
       "      <td>2</td>\n",
       "      <td>0</td>\n",
       "      <td>1</td>\n",
       "    </tr>\n",
       "  </tbody>\n",
       "</table>\n",
       "<p>8124 rows × 18 columns</p>\n",
       "</div>"
      ],
      "text/plain": [
       "      REF_NO children age_band  family_income post_area  \\\n",
       "0       5466        2    31-35         35000+       M51   \n",
       "1       9091        0    45-50         35000+       L40   \n",
       "2       9744        1    36-40  20,000-22,500      TA19   \n",
       "3      10700        2    31-35  22,500-25,000       FK2   \n",
       "4       1987        0    55-60         35000+      LS23   \n",
       "...      ...      ...      ...            ...       ...   \n",
       "8119    6516        3    36-40  17,500-20,000       L33   \n",
       "8120    5897        0    61-65    4,000-8,000       DE6   \n",
       "8121    6130        1    41-45    4,000-8,000      BT28   \n",
       "8122     980        0    61-65        0-4,000      CT10   \n",
       "8123    8267        3    41-45  22,500-25,000      TS16   \n",
       "\n",
       "      Average_Credit_Card_Transaction  Balance_Transfer  Term_Deposit  \\\n",
       "0                               26.98             29.99        312.25   \n",
       "1                               35.98             74.48          0.00   \n",
       "2                                0.00             24.46          0.00   \n",
       "3                               44.99              0.00          0.00   \n",
       "4                                0.00              0.00          0.00   \n",
       "...                               ...               ...           ...   \n",
       "8119                             0.00              0.00          0.00   \n",
       "8120                             0.00              0.00          9.49   \n",
       "8121                             0.00            107.42          0.00   \n",
       "8122                             0.00             59.48          0.00   \n",
       "8123                            73.96             74.47         42.98   \n",
       "\n",
       "      total_isurance  Average_A/C_Balance  Online_Purchase_Amount  gender  \\\n",
       "0             388.51               108.85                    7.68  Female   \n",
       "1             110.95                48.45                   18.99  Female   \n",
       "2              18.44                 0.00                    0.00  Female   \n",
       "3              29.99                 0.00                    0.00  Female   \n",
       "4               0.00                 0.00                    0.00  Female   \n",
       "...              ...                  ...                     ...     ...   \n",
       "8119            0.00                 0.00                    0.00    Male   \n",
       "8120            0.00                 2.99                    0.00  Female   \n",
       "8121           47.41                38.95                    0.00  Female   \n",
       "8122            0.00                 0.00                    0.00  Female   \n",
       "8123          140.94                51.46                    3.99    Male   \n",
       "\n",
       "                region  total_invest  total_loan  Revenue_Grid  Female  Male  \n",
       "0           North West        503.70      230.87             2       1     0  \n",
       "1           North West         89.22       15.99             2       1     0  \n",
       "2           South West         24.96        0.02             2       1     0  \n",
       "3             Scotland         68.98        0.00             2       1     0  \n",
       "4              Unknown         11.86        0.00             2       1     0  \n",
       "...                ...           ...         ...           ...     ...   ...  \n",
       "8119        North West         15.23        0.00             2       0     1  \n",
       "8120     East Midlands        115.18        0.00             2       1     0  \n",
       "8121  Northern Ireland        208.43        3.72             2       1     0  \n",
       "8122        South East         -9.19        0.00             2       1     0  \n",
       "8123             North        234.70      100.39             2       0     1  \n",
       "\n",
       "[8124 rows x 18 columns]"
      ]
     },
     "execution_count": 51,
     "metadata": {},
     "output_type": "execute_result"
    }
   ],
   "source": [
    "def encoding_gender(cust_new):\n",
    "    gender=pd.get_dummies(cust_new.gender)\n",
    "    #gender.head(10)\n",
    "    gender.drop('Unknown',axis=1,inplace=True)\n",
    "    cust_new=pd.concat([cust_new,gender],axis=1)\n",
    "    return cust_new\n",
    "encoding_gender(cust_new)"
   ]
  },
  {
   "cell_type": "code",
   "execution_count": 52,
   "metadata": {},
   "outputs": [],
   "source": [
    "cust_new.drop('gender',axis=1,inplace=True)"
   ]
  },
  {
   "cell_type": "code",
   "execution_count": 53,
   "metadata": {},
   "outputs": [],
   "source": [
    "#label encoding for age_band\n",
    "ageband_map={\n",
    "                'Unknown':0, '18-21':1, '22-25':2,'26-30':3, '31-35':4,'36-40':5,'41-45':6, '45-50':7,\n",
    "                 '51-55':8,'55-60':9, '61-65':10, '65-70':11,'71+':12 \n",
    "}\n",
    "cust_new['ageband_ordinal']=cust_new.age_band.map(ageband_map)"
   ]
  },
  {
   "cell_type": "code",
   "execution_count": 54,
   "metadata": {},
   "outputs": [],
   "source": [
    "cust_new.drop('age_band',axis=1,inplace=True)"
   ]
  },
  {
   "cell_type": "code",
   "execution_count": 55,
   "metadata": {},
   "outputs": [],
   "source": [
    "#label encoding for age_band\n",
    "family_income_map={\n",
    "                'Unknown':0, '0-4,000':1, '4,000-8,000':2,'8,000-10,000':3, '10,000-12,500':4,'12,500-15,000':5,'15,000-17,500':6, '17,500-20,000':7,\n",
    "                 '20,000-22,500':8,'22,500-25,000':9, '25,000-27,500':10, '27,500-27,500':11,'35000+':12 \n",
    "}\n",
    "cust_new['family_income_ordinal']=cust_new.family_income.map(family_income_map)"
   ]
  },
  {
   "cell_type": "code",
   "execution_count": 56,
   "metadata": {},
   "outputs": [],
   "source": [
    "cust_new.drop('family_income',axis=1,inplace=True)"
   ]
  },
  {
   "cell_type": "code",
   "execution_count": 57,
   "metadata": {},
   "outputs": [
    {
     "data": {
      "text/plain": [
       "South East          1680\n",
       "North West          1517\n",
       "Unknown              866\n",
       "South West           769\n",
       "West Midlands        658\n",
       "East Midlands        623\n",
       "Scotland             615\n",
       "North                460\n",
       "Wales                437\n",
       "East Anglia          344\n",
       "Northern Ireland     135\n",
       "Isle of Man           15\n",
       "Channel Islands        5\n",
       "Name: region, dtype: int64"
      ]
     },
     "execution_count": 57,
     "metadata": {},
     "output_type": "execute_result"
    }
   ],
   "source": [
    "#we can replace with its value counts as no one is same number\n",
    "cust_new.region.value_counts()"
   ]
  },
  {
   "cell_type": "code",
   "execution_count": 58,
   "metadata": {},
   "outputs": [],
   "source": [
    "reg=cust_new.groupby('region').size()/len(cust_new)\n",
    "cust_new.loc[:,'region_encoded']=cust_new.region.map(reg)\n",
    "# try with just value count if F1 changes"
   ]
  },
  {
   "cell_type": "code",
   "execution_count": 59,
   "metadata": {},
   "outputs": [],
   "source": [
    "cust_new.drop('post_area',axis=1,inplace=True)"
   ]
  },
  {
   "cell_type": "code",
   "execution_count": 60,
   "metadata": {},
   "outputs": [],
   "source": [
    "cust_new.drop('region',axis=1,inplace=True)"
   ]
  },
  {
   "cell_type": "code",
   "execution_count": 61,
   "metadata": {},
   "outputs": [],
   "source": [
    "independent_cols=['REF_NO', 'children', 'Average_Credit_Card_Transaction',\n",
    "       'Balance_Transfer', 'Term_Deposit', 'total_isurance',\n",
    "       'Average_A/C_Balance', 'Online_Purchase_Amount', 'total_invest',\n",
    "       'total_loan', 'ageband_ordinal',\n",
    "       'family_income_ordinal']# removed , 'region_encoded'\n",
    "X=cust_new[independent_cols] \n",
    "y=cust_new.Revenue_Grid"
   ]
  },
  {
   "cell_type": "code",
   "execution_count": 62,
   "metadata": {},
   "outputs": [
    {
     "data": {
      "text/plain": [
       "(8124, 12)"
      ]
     },
     "execution_count": 62,
     "metadata": {},
     "output_type": "execute_result"
    }
   ],
   "source": [
    "X.shape"
   ]
  },
  {
   "cell_type": "code",
   "execution_count": 63,
   "metadata": {},
   "outputs": [
    {
     "data": {
      "text/plain": [
       "(8124,)"
      ]
     },
     "execution_count": 63,
     "metadata": {},
     "output_type": "execute_result"
    }
   ],
   "source": [
    "y.shape"
   ]
  },
  {
   "cell_type": "code",
   "execution_count": 64,
   "metadata": {},
   "outputs": [],
   "source": [
    "from sklearn.model_selection import train_test_split\n",
    "X_train, X_test, y_train, y_test = train_test_split(X, y, test_size=0.2)"
   ]
  },
  {
   "cell_type": "code",
   "execution_count": 65,
   "metadata": {},
   "outputs": [],
   "source": [
    "from sklearn.preprocessing import RobustScaler\n",
    "robust = RobustScaler()\n",
    "X_train[independent_cols] = robust.fit_transform(X_train)\n",
    "X_test[independent_cols] = robust.transform(X_test)"
   ]
  },
  {
   "cell_type": "code",
   "execution_count": 66,
   "metadata": {},
   "outputs": [
    {
     "data": {
      "text/plain": [
       "LogisticRegression()"
      ]
     },
     "execution_count": 66,
     "metadata": {},
     "output_type": "execute_result"
    }
   ],
   "source": [
    "from sklearn.linear_model import LogisticRegression \n",
    "logreg = LogisticRegression()\n",
    "logreg.fit(X_train,y_train)"
   ]
  },
  {
   "cell_type": "code",
   "execution_count": 67,
   "metadata": {},
   "outputs": [],
   "source": [
    "#predicting on train data\n",
    "y_pred_train = logreg.predict(X_train)\n",
    "\n",
    "#predicting on test data\n",
    "y_pred_test = logreg.predict(X_test)"
   ]
  },
  {
   "cell_type": "code",
   "execution_count": 68,
   "metadata": {},
   "outputs": [
    {
     "name": "stdout",
     "output_type": "stream",
     "text": [
      "Accuracy score for test data is: 0.9378461538461539\n"
     ]
    }
   ],
   "source": [
    "from sklearn.metrics import accuracy_score   \n",
    "pred = logreg.predict(X_test)\n",
    "print('Accuracy score for test data is:', accuracy_score(y_test,pred))"
   ]
  },
  {
   "cell_type": "code",
   "execution_count": 69,
   "metadata": {},
   "outputs": [
    {
     "data": {
      "text/plain": [
       "0.6552901023890785"
      ]
     },
     "execution_count": 69,
     "metadata": {},
     "output_type": "execute_result"
    }
   ],
   "source": [
    "from sklearn.metrics import f1_score    \n",
    "f1_score(y_test,y_pred_test)"
   ]
  },
  {
   "cell_type": "markdown",
   "metadata": {},
   "source": [
    "Random Forest"
   ]
  },
  {
   "cell_type": "code",
   "execution_count": 78,
   "metadata": {},
   "outputs": [
    {
     "data": {
      "text/plain": [
       "RandomForestClassifier(random_state=0)"
      ]
     },
     "execution_count": 78,
     "metadata": {},
     "output_type": "execute_result"
    }
   ],
   "source": [
    "from sklearn.ensemble import RandomForestClassifier  \n",
    "model = RandomForestClassifier(random_state = 0)\n",
    "\n",
    "model.fit(X_train, y_train)"
   ]
  },
  {
   "cell_type": "code",
   "execution_count": 79,
   "metadata": {},
   "outputs": [],
   "source": [
    "y_pred_test = model.predict(X_test)"
   ]
  },
  {
   "cell_type": "code",
   "execution_count": 80,
   "metadata": {},
   "outputs": [
    {
     "name": "stdout",
     "output_type": "stream",
     "text": [
      "Accuracy score for test data is: 0.9476923076923077\n"
     ]
    }
   ],
   "source": [
    "print('Accuracy score for test data is:', accuracy_score(y_test,y_pred_test))"
   ]
  },
  {
   "cell_type": "code",
   "execution_count": 81,
   "metadata": {},
   "outputs": [
    {
     "data": {
      "text/plain": [
       "0.7266881028938906"
      ]
     },
     "execution_count": 81,
     "metadata": {},
     "output_type": "execute_result"
    }
   ],
   "source": [
    "f1_score(y_test,y_pred_test)"
   ]
  },
  {
   "cell_type": "markdown",
   "metadata": {},
   "source": [
    "# Test data "
   ]
  },
  {
   "cell_type": "code",
   "execution_count": 70,
   "metadata": {},
   "outputs": [],
   "source": [
    "final_test=pd.read_csv('existing_base_test.csv')"
   ]
  },
  {
   "cell_type": "code",
   "execution_count": 71,
   "metadata": {},
   "outputs": [
    {
     "data": {
      "text/plain": [
       "(2031, 37)"
      ]
     },
     "execution_count": 71,
     "metadata": {},
     "output_type": "execute_result"
    }
   ],
   "source": [
    "#y_pred_final=model.predict(final_test)\n",
    "def home_stat(g):\n",
    "    if g =='Own Home':\n",
    "        return 'Owner'\n",
    "    elif g == 'Rent Privately':\n",
    "        return 'Rent'\n",
    "    elif g == 'Rent from Council/HA':\n",
    "        return 'Rent'\n",
    "    elif g == 'Live in Parental Hom':\n",
    "        return 'Rent'\n",
    "    elif g in 'Unclassified':\n",
    "        return 'Rent'\n",
    "working=['Professional','Manual Worker','Business Manager','Secretarial/Admin','Other']\n",
    "non_working=['Retired','Housewife','Student']\n",
    "def occ(g):\n",
    "    if (g.occupation in working) & (g.occupation_partner in working):\n",
    "        return 'both_working'\n",
    "    elif (g.occupation in non_working) & (g.occupation_partner in non_working):\n",
    "        return 'both_non_working'\n",
    "    else:\n",
    "        return 'single'\n",
    "def self_emp(g):\n",
    "    if (g.self_employed == 'Yes') & (g.self_employed_partner == 'Yes'):\n",
    "        return 'both_yes'\n",
    "    elif (g.self_employed == 'No') & (g.self_employed_partner == 'No'):\n",
    "        return 'both_no'\n",
    "    else:\n",
    "        return 'single'\n",
    "\n",
    "def feature_engg():\n",
    "    final_test['children']=final_test['children'].replace('Zero','0')\n",
    "    final_test['children']=final_test['children'].replace('4+','4')\n",
    "    final_test['family_income']=final_test['family_income'].replace(['>=35,000','<22,500, >=20,000','<25,000, >=22,500','<30,000, >=27,500', '<20,000, >=17,500','<27,500, >=25,000','< 4,000', '<15,000, >=12,500', '<17,500, >=15,000','< 8,000, >= 4,000', '<12,500, >=10,000', '<10,000, >= 8,000'],['35000+','20,000-22,500','22,500-25,000','27,500-27,500','17,500-20,000','25,000-27,500','0-4,000','12,500-15,000','15,000-17,500','4,000-8,000','10,000-12,500','8,000-10,000'])\n",
    "    final_test['total_invest']=final_test.Investment_in_Mutual_Fund+final_test.Investment_Tax_Saving_Bond+final_test.Portfolio_Balance\n",
    "    final_test['total_loan']=final_test.Personal_Loan+final_test.Home_Loan\n",
    "    final_test['total_isurance']=final_test.Life_Insurance+final_test.Medical_Insurance\n",
    "    final_test['home_status_new']=final_test['home_status'].apply(home_stat)\n",
    "    final_test['occupation_Status_new']=final_test.apply(occ,axis=1)\n",
    "    final_test['self_employed_new']=final_test.apply(self_emp,axis=1)\n",
    "feature_engg()\n",
    "final_test.shape\n"
   ]
  },
  {
   "cell_type": "code",
   "execution_count": 72,
   "metadata": {},
   "outputs": [],
   "source": [
    "final_test_new=final_test[['REF_NO','children','age_band','status','family_income','post_area','Average_Credit_Card_Transaction','Balance_Transfer','Term_Deposit', 'total_isurance','Average_A/C_Balance','Online_Purchase_Amount','gender', 'region','total_invest', 'total_loan', 'home_status_new','occupation_Status_new', 'self_employed_new']]"
   ]
  },
  {
   "cell_type": "code",
   "execution_count": 73,
   "metadata": {},
   "outputs": [],
   "source": [
    "def encoding_stat(final_test_new):\n",
    "    stat=pd.get_dummies(final_test_new.status)\n",
    "    stat.head(10)\n",
    "    stat.drop('Unknown',axis=1,inplace=True)\n",
    "    final_test_new=pd.concat([final_test_new,stat],axis=1)\n",
    "    return final_test_new\n",
    "encoding_stat(final_test_new)\n",
    "def encoding(final_test_new):\n",
    "    cat_columns=['home_status_new','occupation_Status_new','self_employed_new']\n",
    "    cat_dum=pd.get_dummies(final_test_new[cat_columns],drop_first=True)\n",
    "    final_test_new=pd.concat([final_test_new,cat_dum],axis=1).head()\n",
    "    return final_test_new\n",
    "encoding(final_test_new)\n",
    "final_test_new.drop(['home_status_new','occupation_Status_new','self_employed_new','status'],axis=1,inplace=True)\n",
    "def encoding_gender(final_test_new):\n",
    "    gender=pd.get_dummies(final_test_new.gender)\n",
    "    #gender.head(10)\n",
    "    gender.drop('Unknown',axis=1,inplace=True)\n",
    "    final_test_new=pd.concat([final_test_new,gender],axis=1)\n",
    "    return final_test_new\n",
    "encoding_gender(final_test_new)\n",
    "final_test_new.drop('gender',axis=1,inplace=True)#label encoding for age_band\n",
    "ageband_map={\n",
    "                'Unknown':0, '18-21':1, '22-25':2,'26-30':3, '31-35':4,'36-40':5,'41-45':6, '45-50':7,\n",
    "                 '51-55':8,'55-60':9, '61-65':10, '65-70':11,'71+':12 \n",
    "}\n",
    "final_test_new['ageband_ordinal']=final_test_new.age_band.map(ageband_map)\n",
    "final_test_new.drop('age_band',axis=1,inplace=True)\n",
    "#label encoding for family income\n",
    "family_income_map={\n",
    "                'Unknown':0, '0-4,000':1, '4,000-8,000':2,'8,000-10,000':3, '10,000-12,500':4,'12,500-15,000':5,'15,000-17,500':6, '17,500-20,000':7,\n",
    "                 '20,000-22,500':8,'22,500-25,000':9, '25,000-27,500':10, '27,500-27,500':11,'35000+':12 \n",
    "}\n",
    "final_test_new['family_income_ordinal']=final_test_new.family_income.map(family_income_map)\n",
    "final_test_new.drop('family_income',axis=1,inplace=True)\n",
    "reg=final_test_new.groupby('region').size()/len(final_test_new)\n",
    "final_test_new.loc[:,'region_encoded']=final_test_new.region.map(reg)\n",
    "independent_cols=['REF_NO', 'children', 'Average_Credit_Card_Transaction',\n",
    "       'Balance_Transfer', 'Term_Deposit', 'total_isurance',\n",
    "       'Average_A/C_Balance', 'Online_Purchase_Amount', 'total_invest',\n",
    "       'total_loan', 'ageband_ordinal',\n",
    "       'family_income_ordinal']\n",
    "X=final_test_new[independent_cols]"
   ]
  },
  {
   "cell_type": "code",
   "execution_count": 74,
   "metadata": {},
   "outputs": [],
   "source": [
    "y_pred_final=logreg.predict(X)"
   ]
  },
  {
   "cell_type": "code",
   "execution_count": 75,
   "metadata": {},
   "outputs": [],
   "source": [
    "df3 = pd.DataFrame({\"Ref_no\":X.REF_NO,\"Revenue_grid\":y_pred_final})"
   ]
  },
  {
   "cell_type": "code",
   "execution_count": 76,
   "metadata": {},
   "outputs": [],
   "source": [
    "df3.to_csv('cust_classification_output.csv',index=False, header=False)"
   ]
  },
  {
   "cell_type": "code",
   "execution_count": 77,
   "metadata": {},
   "outputs": [
    {
     "data": {
      "text/plain": [
       "1    2012\n",
       "2      19\n",
       "Name: Revenue_grid, dtype: int64"
      ]
     },
     "execution_count": 77,
     "metadata": {},
     "output_type": "execute_result"
    }
   ],
   "source": [
    "df3.Revenue_grid.value_counts()"
   ]
  },
  {
   "cell_type": "code",
   "execution_count": 84,
   "metadata": {},
   "outputs": [],
   "source": [
    "y_pred_final_RF=model.predict(X)## Prediction with Random Forest"
   ]
  },
  {
   "cell_type": "code",
   "execution_count": 87,
   "metadata": {},
   "outputs": [
    {
     "data": {
      "text/plain": [
       "2    1637\n",
       "1     394\n",
       "Name: Revenue_grid, dtype: int64"
      ]
     },
     "execution_count": 87,
     "metadata": {},
     "output_type": "execute_result"
    }
   ],
   "source": [
    "df3 = pd.DataFrame({\"Ref_no\":X.REF_NO,\"Revenue_grid\":y_pred_final_RF})\n",
    "df3.to_csv('cust_classification_output.csv',index=False, header=False)\n",
    "df3.Revenue_grid.value_counts()"
   ]
  },
  {
   "cell_type": "code",
   "execution_count": null,
   "metadata": {},
   "outputs": [],
   "source": []
  }
 ],
 "metadata": {
  "kernelspec": {
   "display_name": "Python 3",
   "language": "python",
   "name": "python3"
  },
  "language_info": {
   "codemirror_mode": {
    "name": "ipython",
    "version": 3
   },
   "file_extension": ".py",
   "mimetype": "text/x-python",
   "name": "python",
   "nbconvert_exporter": "python",
   "pygments_lexer": "ipython3",
   "version": "3.8.5"
  }
 },
 "nbformat": 4,
 "nbformat_minor": 4
}
