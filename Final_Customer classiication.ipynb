{
 "cells": [
  {
   "cell_type": "markdown",
   "metadata": {},
   "source": [
    "# Machine Learning foundation project - Customer Classification"
   ]
  },
  {
   "cell_type": "markdown",
   "metadata": {},
   "source": [
    "<center><img width=40% src=\"https://github.com/kings-shah/Customer-Classification/blob/main/bank.jpg?raw=true\"></center>"
   ]
  },
  {
   "cell_type": "markdown",
   "metadata": {},
   "source": [
    "---\n",
    "# **Table of Contents**\n",
    "---\n",
    "\n",
    "**1.** [**Introduction**](#Section1)<br>\n",
    "**2.** [**Problem Statement**](#Section2)<br>\n",
    "**3.** [**Importing Libraries**](#Section3)<br>\n",
    "**4.** [**Data Acquisition & Description**](#Section4)<br>\n",
    "  - **4.1** [**Data Description**](#Section41)<br>\n",
    "  - **4.2** [**Data Information**](#Section42)<br>\n",
    "**5.** [**Data Post-Processing**](#Section5)<br>\n",
    "  - **5.1** [**Feature Engineering**](#Section51)<br> \n",
    "  - **5.2** [**Data Encoding**](#Section52)<br> \n",
    "  - **5.3** [**Data Preparation**](#Section53)<br>\n",
    "  - **5.4** [**Data Scaling**](#Section54)<br>\n",
    "\n",
    "**6.** [**Model Development & Evaluation**](#Section6)<br>\n",
    " - **6.1** [**Baseline Model Development**](#Section61)<br> \n",
    "  - **6.2** [**Model Evaluation**](#Section62)<br>\n",
    "  - **6.3** [**Test Data**](#Section63)<br>\n"
   ]
  },
  {
   "cell_type": "markdown",
   "metadata": {},
   "source": [
    "<a name = Section1></a>\n",
    "# **1. Introduction**\n",
    "---------------------------------\n",
    "###### Company Introduction\n",
    "Your client for this project is a retail banking institution.\n",
    "\n",
    "They are going to float a stock trading facility for their existing customers.\n",
    "The idea is to use data to classify whether a customer belongs to a high net worth or low net worth group.\n",
    "They will have to incentivize their customers to adopt their offerings.\n",
    "One way to incentivize is to offer discounts on the commission for trading transactions.\n",
    "\n",
    "Current Scenario\n",
    "The company rolled out this service to about 10,000+ of its customers and observed their trading behavior for 6 months and after that, they labeled them into two revenue grids 1 and 2.\n",
    "\n"
   ]
  },
  {
   "cell_type": "markdown",
   "metadata": {},
   "source": [
    "<a name = Section2></a>\n",
    "# **2. Problem Statement**\n",
    "-----------\n",
    "<b>Objective:</b>\n",
    "<ul>\n",
    "    <li><b>Deliverable:</b> Predict whether a customer belongs to a high net worth or low net worth group.\n",
    "    <li><b>Machine Learning Task:</b> Classification\n",
    "    <li><b>Target Variable: </b>Status (high net worth (1) / low net worth (2))\n",
    "</ul>"
   ]
  },
  {
   "cell_type": "markdown",
   "metadata": {},
   "source": [
    "---\n",
    "<a name = Section3></a>\n",
    "# **3. Importing Libraries**\n",
    "---"
   ]
  },
  {
   "cell_type": "code",
   "execution_count": 9,
   "metadata": {},
   "outputs": [
    {
     "name": "stdout",
     "output_type": "stream",
     "text": [
      "pandas version 1.1.3\n",
      "numpy version 1.19.2\n",
      "seaborn version 0.11.0\n",
      "sklearn version 0.23.2\n"
     ]
    }
   ],
   "source": [
    "import numpy as np                     \n",
    "\n",
    "import pandas as pd\n",
    "pd.set_option('mode.chained_assignment', None)      # To suppress pandas warnings.\n",
    "pd.set_option('display.max_colwidth', None)         # To display all the data in each column\n",
    "pd.set_option('display.max_columns', None)          # To display every column of the dataset in head()\n",
    "\n",
    "import warnings\n",
    "warnings.filterwarnings('ignore')                   # To suppress all the warnings in the notebook.\n",
    "#------------------------------------------------------------------------------------------------------------------------------\n",
    "\n",
    "import numpy as np                                                  # Importing package numpys (For Numerical Python)\n",
    "from scipy.stats import randint as sp_randint                       # For initializing random integer values\n",
    "#-------------------------------------------------------------------------------------------------------------------------------\n",
    "import matplotlib.pyplot as plt                                     # Importing pyplot interface using matplotlib\n",
    "import seaborn as sns                                               # Importin seaborm library for interactive visualization\n",
    "%matplotlib inline\n",
    "import sklearn.metrics\n",
    "#-------------------------------------------------------------------------------------------------------------------------------\n",
    "from sklearn.preprocessing import StandardScaler                    # To scaled data with mean 0 and variance 1\n",
    "from sklearn.model_selection import RandomizedSearchCV              # To find best hyperparamter setting for the algorithm\n",
    "from sklearn.metrics import classification_report                   # To generate classification report\n",
    "from sklearn.metrics import plot_confusion_matrix                   # To plot confusion matrix\n",
    "#import pydotplus                                                    # To generate pydot file\n",
    "from IPython.display import Image                                   # To generate image using pydot file\n",
    "#-------------------------------------------------------------------------------------------------------------------------------\n",
    "#-------------------------------------------------------------------------------------------------------------------------------\n",
    "from sklearn.metrics import accuracy_score                          # For calculating the accuracy for the model\n",
    "from sklearn.metrics import precision_score                         # For calculating the Precision of the model\n",
    "from sklearn.metrics import recall_score                            # For calculating the recall of the model\n",
    "from sklearn.metrics import precision_recall_curve                  # For precision and recall metric estimation\n",
    "from sklearn.metrics import confusion_matrix                        # For verifying model performance using confusion matrix\n",
    "from sklearn.metrics import f1_score                                # For Checking the F1-Score of our model  \n",
    "from sklearn.metrics import roc_curve                               # For Roc-Auc metric estimation\n",
    "from sklearn.metrics import plot_roc_curve\n",
    "#-------------------------------------------------------------------------------------------------------------------------------\n",
    "from sklearn.model_selection import train_test_split                # To split the data in training and testing part     \n",
    "from sklearn.linear_model import LogisticRegression                 # To create the Logistic Regression Model\n",
    "#-------------------------------------------------------------------------------------------------------------------------------\n",
    "import warnings                                                     # Importing warning to disable runtime warnings\n",
    "warnings.filterwarnings(\"ignore\")                                   # Warnings will appear only once\n",
    "\n",
    "#Printing version of few key libraries to ensure correct once are used\n",
    "print (\"pandas version\", pd.__version__)\n",
    "print (\"numpy version\", np.__version__)\n",
    "print (\"seaborn version\", sns.__version__)\n",
    "print (\"sklearn version\", sklearn.__version__)"
   ]
  },
  {
   "cell_type": "markdown",
   "metadata": {},
   "source": [
    "---\n",
    "<a name = Section4></a>\n",
    "# **4. Data Acquisition & Description**\n",
    "---\n",
    "\n",
    "- The **dataset** consists of the information about **Customers** Along with column **Revenue_Grid** which classifies the customers into high net worth customers (1) and low net worth customers (2).\n",
    "\n",
    "\n",
    "| Records | Features | Dataset Size |\n",
    "| :-- | :-- | :-- |\n",
    "| 8124 | 32 | 1619 KB | \n",
    "\n",
    "<br>\n",
    "\n",
    "| ID | Feature Name | Description of the feature |\n",
    "| :-- | :--| :--| \n",
    "|01| **REF_NO**   | Reference Number of the customer                          |\n",
    "|02| **children**      | Number of children each customer has                 |\n",
    "|03| **Age_band**        | Age Group to which the customer belongs            |\n",
    "|04| **status**          | Marital Status of the customer                     |\n",
    "|05| **occupation**      | Job or profession of the customer                  |\n",
    "|06| **occupation_partner**           | Job or profession of the customer's partner                                  |\n",
    "|07| **home_status**     | Home Status of the customers |\n",
    "|08| **family_income**     | Income Range of the customer's family|\n",
    "|09| **self_employed**        | Whether self-employed or not                                         |\n",
    "|10| **self_employed_partner**          | Whether the partner self-employed or not                                   |\n",
    "|11| **year_last_moved**         | Moving Year from the last location of the customer  |\n",
    "|12| **TVarea**     | Television Region of the customer                                   |\n",
    "|13| **post_code**     | \tPostal Code of the customer                                  |\n",
    "|14| **post_area**     | Postal Area of the customer                                  |\n",
    "|15| **Average_Credit_Card_Transaction**     | Average Credit Card Transaction per year by the customer           |\n",
    "|16| **Balance_Transfer**     | Transfer of the Balance in an account to another account by the customer           |\n",
    "|17| **Term_Deposit**     | Cash Investment Help at Financial Institute provided to the customer                              |\n",
    "|18| **Life_Insurance**     | Basic Life Insurance Coverage of the customer                                  |\n",
    "|19| **Medical_Insurance**     | Medical Insurance Coverage of the customer                                  |\n",
    "|20| **Average_A/C_Balance**     | Average Balance in the account of the customer                                  |\n",
    "|21| **Personal_Loan**     | Amount of Personal Loan taken by the customer                                  |\n",
    "|22| **Investment_in_Mutual_Fund**     | Amount Invested in Mutual Funds by the customer                                  |\n",
    "|23| **Investment_Tax_Saving_Bond**     | Amount Invested in Tax Saving Bond by the customer                                  |\n",
    "|24| **Home_Loan**     | Amount of Home Loan taken by the customer                                   |\n",
    "|25| **Online_Purchase_Amount**     | Amount spent by the customer on online purchases                                   |\n",
    "|26| **gender**     | Gender of the customer                                   |\n",
    "|27| **region**     | Region of the customer                                   |\n",
    "|28| **Investment_in_Commodity**     | Amount Invested in Commodity by the customer                                   |\n",
    "|29| **Investment_in_Equity**     | Amount Invested in Equity by the customer                                   |\n",
    "|30| **Investment_in_Derivative**     | Amount Invested in Derivatives by the customer                                   |\n",
    "|31| **Portfolio_Balance**     | \tBalanced Investment Strategy of the customer                                   |\n",
    "|32| **Revenue_Grid**     | Grid report of the customers                                   |"
   ]
  },
  {
   "cell_type": "code",
   "execution_count": 22,
   "metadata": {},
   "outputs": [],
   "source": [
    "cust=pd.read_csv('existing_base_train.csv')"
   ]
  },
  {
   "cell_type": "code",
   "execution_count": 23,
   "metadata": {},
   "outputs": [
    {
     "data": {
      "text/plain": [
       "(8124, 32)"
      ]
     },
     "execution_count": 23,
     "metadata": {},
     "output_type": "execute_result"
    }
   ],
   "source": [
    "#geting the shape of the data\n",
    "cust.shape"
   ]
  },
  {
   "cell_type": "code",
   "execution_count": 24,
   "metadata": {},
   "outputs": [
    {
     "data": {
      "text/plain": [
       "2    7264\n",
       "1     860\n",
       "Name: Revenue_Grid, dtype: int64"
      ]
     },
     "execution_count": 24,
     "metadata": {},
     "output_type": "execute_result"
    }
   ],
   "source": [
    "cust.Revenue_Grid.value_counts()"
   ]
  },
  {
   "cell_type": "code",
   "execution_count": 25,
   "metadata": {},
   "outputs": [
    {
     "name": "stdout",
     "output_type": "stream",
     "text": [
      "<class 'pandas.core.frame.DataFrame'>\n",
      "RangeIndex: 8124 entries, 0 to 8123\n",
      "Data columns (total 32 columns):\n",
      " #   Column                           Non-Null Count  Dtype  \n",
      "---  ------                           --------------  -----  \n",
      " 0   REF_NO                           8124 non-null   int64  \n",
      " 1   children                         8124 non-null   object \n",
      " 2   age_band                         8124 non-null   object \n",
      " 3   status                           8124 non-null   object \n",
      " 4   occupation                       8124 non-null   object \n",
      " 5   occupation_partner               8124 non-null   object \n",
      " 6   home_status                      8124 non-null   object \n",
      " 7   family_income                    8124 non-null   object \n",
      " 8   self_employed                    8124 non-null   object \n",
      " 9   self_employed_partner            8124 non-null   object \n",
      " 10  year_last_moved                  8124 non-null   int64  \n",
      " 11  TVarea                           8124 non-null   object \n",
      " 12  post_code                        8124 non-null   object \n",
      " 13  post_area                        8124 non-null   object \n",
      " 14  Average_Credit_Card_Transaction  8124 non-null   float64\n",
      " 15  Balance_Transfer                 8124 non-null   float64\n",
      " 16  Term_Deposit                     8124 non-null   float64\n",
      " 17  Life_Insurance                   8124 non-null   float64\n",
      " 18  Medical_Insurance                8124 non-null   float64\n",
      " 19  Average_A/C_Balance              8124 non-null   float64\n",
      " 20  Personal_Loan                    8124 non-null   float64\n",
      " 21  Investment_in_Mutual_Fund        8124 non-null   float64\n",
      " 22  Investment_Tax_Saving_Bond       8124 non-null   float64\n",
      " 23  Home_Loan                        8124 non-null   float64\n",
      " 24  Online_Purchase_Amount           8124 non-null   float64\n",
      " 25  gender                           8124 non-null   object \n",
      " 26  region                           8124 non-null   object \n",
      " 27  Investment_in_Commudity          8124 non-null   float64\n",
      " 28  Investment_in_Equity             8124 non-null   float64\n",
      " 29  Investment_in_Derivative         8124 non-null   float64\n",
      " 30  Portfolio_Balance                8124 non-null   float64\n",
      " 31  Revenue_Grid                     8124 non-null   int64  \n",
      "dtypes: float64(15), int64(3), object(14)\n",
      "memory usage: 2.0+ MB\n"
     ]
    }
   ],
   "source": [
    "cust.info()"
   ]
  },
  {
   "cell_type": "code",
   "execution_count": 28,
   "metadata": {},
   "outputs": [
    {
     "data": {
      "text/html": [
       "<div>\n",
       "<style scoped>\n",
       "    .dataframe tbody tr th:only-of-type {\n",
       "        vertical-align: middle;\n",
       "    }\n",
       "\n",
       "    .dataframe tbody tr th {\n",
       "        vertical-align: top;\n",
       "    }\n",
       "\n",
       "    .dataframe thead th {\n",
       "        text-align: right;\n",
       "    }\n",
       "</style>\n",
       "<table border=\"1\" class=\"dataframe\">\n",
       "  <thead>\n",
       "    <tr style=\"text-align: right;\">\n",
       "      <th></th>\n",
       "      <th>children</th>\n",
       "      <th>age_band</th>\n",
       "      <th>status</th>\n",
       "      <th>occupation</th>\n",
       "      <th>occupation_partner</th>\n",
       "      <th>home_status</th>\n",
       "      <th>family_income</th>\n",
       "      <th>self_employed</th>\n",
       "      <th>self_employed_partner</th>\n",
       "      <th>TVarea</th>\n",
       "      <th>post_code</th>\n",
       "      <th>post_area</th>\n",
       "      <th>gender</th>\n",
       "      <th>region</th>\n",
       "    </tr>\n",
       "  </thead>\n",
       "  <tbody>\n",
       "    <tr>\n",
       "      <th>count</th>\n",
       "      <td>8124</td>\n",
       "      <td>8124</td>\n",
       "      <td>8124</td>\n",
       "      <td>8124</td>\n",
       "      <td>8124</td>\n",
       "      <td>8124</td>\n",
       "      <td>8124</td>\n",
       "      <td>8124</td>\n",
       "      <td>8124</td>\n",
       "      <td>8124</td>\n",
       "      <td>8124</td>\n",
       "      <td>8124</td>\n",
       "      <td>8124</td>\n",
       "      <td>8124</td>\n",
       "    </tr>\n",
       "    <tr>\n",
       "      <th>unique</th>\n",
       "      <td>5</td>\n",
       "      <td>13</td>\n",
       "      <td>5</td>\n",
       "      <td>9</td>\n",
       "      <td>9</td>\n",
       "      <td>5</td>\n",
       "      <td>13</td>\n",
       "      <td>2</td>\n",
       "      <td>2</td>\n",
       "      <td>14</td>\n",
       "      <td>8050</td>\n",
       "      <td>1937</td>\n",
       "      <td>3</td>\n",
       "      <td>13</td>\n",
       "    </tr>\n",
       "    <tr>\n",
       "      <th>top</th>\n",
       "      <td>Zero</td>\n",
       "      <td>45-50</td>\n",
       "      <td>Partner</td>\n",
       "      <td>Professional</td>\n",
       "      <td>Unknown</td>\n",
       "      <td>Own Home</td>\n",
       "      <td>&gt;=35,000</td>\n",
       "      <td>No</td>\n",
       "      <td>No</td>\n",
       "      <td>Central</td>\n",
       "      <td>TF6 6LY</td>\n",
       "      <td>PR5</td>\n",
       "      <td>Female</td>\n",
       "      <td>South East</td>\n",
       "    </tr>\n",
       "    <tr>\n",
       "      <th>freq</th>\n",
       "      <td>4991</td>\n",
       "      <td>1098</td>\n",
       "      <td>6124</td>\n",
       "      <td>1949</td>\n",
       "      <td>1942</td>\n",
       "      <td>7506</td>\n",
       "      <td>2014</td>\n",
       "      <td>7543</td>\n",
       "      <td>7207</td>\n",
       "      <td>1294</td>\n",
       "      <td>2</td>\n",
       "      <td>28</td>\n",
       "      <td>6106</td>\n",
       "      <td>1680</td>\n",
       "    </tr>\n",
       "  </tbody>\n",
       "</table>\n",
       "</div>"
      ],
      "text/plain": [
       "       children age_band   status    occupation occupation_partner  \\\n",
       "count      8124     8124     8124          8124               8124   \n",
       "unique        5       13        5             9                  9   \n",
       "top        Zero    45-50  Partner  Professional            Unknown   \n",
       "freq       4991     1098     6124          1949               1942   \n",
       "\n",
       "       home_status family_income self_employed self_employed_partner   TVarea  \\\n",
       "count         8124          8124          8124                  8124     8124   \n",
       "unique           5            13             2                     2       14   \n",
       "top       Own Home      >=35,000            No                    No  Central   \n",
       "freq          7506          2014          7543                  7207     1294   \n",
       "\n",
       "       post_code post_area  gender      region  \n",
       "count       8124      8124    8124        8124  \n",
       "unique      8050      1937       3          13  \n",
       "top      TF6 6LY       PR5  Female  South East  \n",
       "freq           2        28    6106        1680  "
      ]
     },
     "execution_count": 28,
     "metadata": {},
     "output_type": "execute_result"
    }
   ],
   "source": [
    "#Basic statistical details for categorical variables\n",
    "cust.describe(include=[np.object])"
   ]
  },
  {
   "cell_type": "markdown",
   "metadata": {},
   "source": [
    "<b>Observations:</b>\n",
    "<ul>\n",
    "    <li>No missing values\n",
    "     <li>Children column has maximum \"Zero\" value\n",
    "     <li>Majority customers are of the age band <b>45-50</b>\n",
    "     <li> Most of them are <b>Own Home</b>\n",
    "     <li> Most customer's Family income is <b>>=35,000</b>\n",
    "     <li> Most of the customers are <b>Females</b>    "
   ]
  },
  {
   "cell_type": "code",
   "execution_count": 30,
   "metadata": {},
   "outputs": [
    {
     "data": {
      "text/html": [
       "<div>\n",
       "<style scoped>\n",
       "    .dataframe tbody tr th:only-of-type {\n",
       "        vertical-align: middle;\n",
       "    }\n",
       "\n",
       "    .dataframe tbody tr th {\n",
       "        vertical-align: top;\n",
       "    }\n",
       "\n",
       "    .dataframe thead th {\n",
       "        text-align: right;\n",
       "    }\n",
       "</style>\n",
       "<table border=\"1\" class=\"dataframe\">\n",
       "  <thead>\n",
       "    <tr style=\"text-align: right;\">\n",
       "      <th></th>\n",
       "      <th>Average_Credit_Card_Transaction</th>\n",
       "      <th>Balance_Transfer</th>\n",
       "      <th>Term_Deposit</th>\n",
       "      <th>Life_Insurance</th>\n",
       "      <th>Medical_Insurance</th>\n",
       "      <th>Average_A/C_Balance</th>\n",
       "      <th>Personal_Loan</th>\n",
       "      <th>Investment_in_Mutual_Fund</th>\n",
       "      <th>Investment_Tax_Saving_Bond</th>\n",
       "      <th>Home_Loan</th>\n",
       "      <th>Online_Purchase_Amount</th>\n",
       "      <th>Investment_in_Commudity</th>\n",
       "      <th>Investment_in_Equity</th>\n",
       "      <th>Investment_in_Derivative</th>\n",
       "      <th>Portfolio_Balance</th>\n",
       "    </tr>\n",
       "  </thead>\n",
       "  <tbody>\n",
       "    <tr>\n",
       "      <th>count</th>\n",
       "      <td>8124.000000</td>\n",
       "      <td>8124.000000</td>\n",
       "      <td>8124.000000</td>\n",
       "      <td>8124.000000</td>\n",
       "      <td>8124.000000</td>\n",
       "      <td>8124.000000</td>\n",
       "      <td>8124.00000</td>\n",
       "      <td>8124.000000</td>\n",
       "      <td>8124.000000</td>\n",
       "      <td>8124.000000</td>\n",
       "      <td>8124.000000</td>\n",
       "      <td>8124.000000</td>\n",
       "      <td>8124.000000</td>\n",
       "      <td>8124.000000</td>\n",
       "      <td>8124.000000</td>\n",
       "    </tr>\n",
       "    <tr>\n",
       "      <th>mean</th>\n",
       "      <td>23.251094</td>\n",
       "      <td>46.082922</td>\n",
       "      <td>27.284649</td>\n",
       "      <td>65.317939</td>\n",
       "      <td>18.826195</td>\n",
       "      <td>31.838023</td>\n",
       "      <td>25.41583</td>\n",
       "      <td>41.723628</td>\n",
       "      <td>6.057246</td>\n",
       "      <td>4.416914</td>\n",
       "      <td>19.198658</td>\n",
       "      <td>36.152749</td>\n",
       "      <td>21.442475</td>\n",
       "      <td>31.530652</td>\n",
       "      <td>89.353368</td>\n",
       "    </tr>\n",
       "    <tr>\n",
       "      <th>std</th>\n",
       "      <td>51.147496</td>\n",
       "      <td>79.084692</td>\n",
       "      <td>54.133537</td>\n",
       "      <td>95.762451</td>\n",
       "      <td>32.022332</td>\n",
       "      <td>45.249440</td>\n",
       "      <td>85.13015</td>\n",
       "      <td>64.416023</td>\n",
       "      <td>12.673374</td>\n",
       "      <td>9.945747</td>\n",
       "      <td>92.343126</td>\n",
       "      <td>42.474953</td>\n",
       "      <td>32.261660</td>\n",
       "      <td>39.480660</td>\n",
       "      <td>108.303538</td>\n",
       "    </tr>\n",
       "    <tr>\n",
       "      <th>min</th>\n",
       "      <td>0.000000</td>\n",
       "      <td>0.000000</td>\n",
       "      <td>0.000000</td>\n",
       "      <td>0.000000</td>\n",
       "      <td>0.000000</td>\n",
       "      <td>0.000000</td>\n",
       "      <td>0.00000</td>\n",
       "      <td>0.000000</td>\n",
       "      <td>0.000000</td>\n",
       "      <td>0.000000</td>\n",
       "      <td>0.000000</td>\n",
       "      <td>0.000000</td>\n",
       "      <td>0.000000</td>\n",
       "      <td>0.000000</td>\n",
       "      <td>-78.430000</td>\n",
       "    </tr>\n",
       "    <tr>\n",
       "      <th>25%</th>\n",
       "      <td>0.000000</td>\n",
       "      <td>0.000000</td>\n",
       "      <td>0.000000</td>\n",
       "      <td>0.000000</td>\n",
       "      <td>0.000000</td>\n",
       "      <td>0.000000</td>\n",
       "      <td>0.00000</td>\n",
       "      <td>0.000000</td>\n",
       "      <td>0.000000</td>\n",
       "      <td>0.000000</td>\n",
       "      <td>0.000000</td>\n",
       "      <td>8.282500</td>\n",
       "      <td>4.660000</td>\n",
       "      <td>8.740000</td>\n",
       "      <td>26.277500</td>\n",
       "    </tr>\n",
       "    <tr>\n",
       "      <th>50%</th>\n",
       "      <td>0.000000</td>\n",
       "      <td>17.485000</td>\n",
       "      <td>0.000000</td>\n",
       "      <td>31.475000</td>\n",
       "      <td>0.010000</td>\n",
       "      <td>14.980000</td>\n",
       "      <td>0.00000</td>\n",
       "      <td>23.480000</td>\n",
       "      <td>0.000000</td>\n",
       "      <td>0.000000</td>\n",
       "      <td>0.000000</td>\n",
       "      <td>23.590000</td>\n",
       "      <td>12.820000</td>\n",
       "      <td>21.140000</td>\n",
       "      <td>65.560000</td>\n",
       "    </tr>\n",
       "    <tr>\n",
       "      <th>75%</th>\n",
       "      <td>23.480000</td>\n",
       "      <td>64.990000</td>\n",
       "      <td>34.490000</td>\n",
       "      <td>92.887500</td>\n",
       "      <td>26.970000</td>\n",
       "      <td>45.922500</td>\n",
       "      <td>20.82750</td>\n",
       "      <td>59.440000</td>\n",
       "      <td>5.490000</td>\n",
       "      <td>4.490000</td>\n",
       "      <td>7.480000</td>\n",
       "      <td>49.795000</td>\n",
       "      <td>27.972500</td>\n",
       "      <td>42.392500</td>\n",
       "      <td>123.970000</td>\n",
       "    </tr>\n",
       "    <tr>\n",
       "      <th>max</th>\n",
       "      <td>662.260000</td>\n",
       "      <td>2951.760000</td>\n",
       "      <td>784.820000</td>\n",
       "      <td>2930.410000</td>\n",
       "      <td>591.040000</td>\n",
       "      <td>626.240000</td>\n",
       "      <td>4905.93000</td>\n",
       "      <td>2561.270000</td>\n",
       "      <td>156.870000</td>\n",
       "      <td>162.350000</td>\n",
       "      <td>4306.420000</td>\n",
       "      <td>1231.090000</td>\n",
       "      <td>1279.100000</td>\n",
       "      <td>1771.160000</td>\n",
       "      <td>4283.560000</td>\n",
       "    </tr>\n",
       "  </tbody>\n",
       "</table>\n",
       "</div>"
      ],
      "text/plain": [
       "       Average_Credit_Card_Transaction  Balance_Transfer  Term_Deposit  \\\n",
       "count                      8124.000000       8124.000000   8124.000000   \n",
       "mean                         23.251094         46.082922     27.284649   \n",
       "std                          51.147496         79.084692     54.133537   \n",
       "min                           0.000000          0.000000      0.000000   \n",
       "25%                           0.000000          0.000000      0.000000   \n",
       "50%                           0.000000         17.485000      0.000000   \n",
       "75%                          23.480000         64.990000     34.490000   \n",
       "max                         662.260000       2951.760000    784.820000   \n",
       "\n",
       "       Life_Insurance  Medical_Insurance  Average_A/C_Balance  Personal_Loan  \\\n",
       "count     8124.000000        8124.000000          8124.000000     8124.00000   \n",
       "mean        65.317939          18.826195            31.838023       25.41583   \n",
       "std         95.762451          32.022332            45.249440       85.13015   \n",
       "min          0.000000           0.000000             0.000000        0.00000   \n",
       "25%          0.000000           0.000000             0.000000        0.00000   \n",
       "50%         31.475000           0.010000            14.980000        0.00000   \n",
       "75%         92.887500          26.970000            45.922500       20.82750   \n",
       "max       2930.410000         591.040000           626.240000     4905.93000   \n",
       "\n",
       "       Investment_in_Mutual_Fund  Investment_Tax_Saving_Bond    Home_Loan  \\\n",
       "count                8124.000000                 8124.000000  8124.000000   \n",
       "mean                   41.723628                    6.057246     4.416914   \n",
       "std                    64.416023                   12.673374     9.945747   \n",
       "min                     0.000000                    0.000000     0.000000   \n",
       "25%                     0.000000                    0.000000     0.000000   \n",
       "50%                    23.480000                    0.000000     0.000000   \n",
       "75%                    59.440000                    5.490000     4.490000   \n",
       "max                  2561.270000                  156.870000   162.350000   \n",
       "\n",
       "       Online_Purchase_Amount  Investment_in_Commudity  Investment_in_Equity  \\\n",
       "count             8124.000000              8124.000000           8124.000000   \n",
       "mean                19.198658                36.152749             21.442475   \n",
       "std                 92.343126                42.474953             32.261660   \n",
       "min                  0.000000                 0.000000              0.000000   \n",
       "25%                  0.000000                 8.282500              4.660000   \n",
       "50%                  0.000000                23.590000             12.820000   \n",
       "75%                  7.480000                49.795000             27.972500   \n",
       "max               4306.420000              1231.090000           1279.100000   \n",
       "\n",
       "       Investment_in_Derivative  Portfolio_Balance  \n",
       "count               8124.000000        8124.000000  \n",
       "mean                  31.530652          89.353368  \n",
       "std                   39.480660         108.303538  \n",
       "min                    0.000000         -78.430000  \n",
       "25%                    8.740000          26.277500  \n",
       "50%                   21.140000          65.560000  \n",
       "75%                   42.392500         123.970000  \n",
       "max                 1771.160000        4283.560000  "
      ]
     },
     "execution_count": 30,
     "metadata": {},
     "output_type": "execute_result"
    }
   ],
   "source": [
    "#Basic statistical details for numeric variables\n",
    "cust.describe(include=[np.float64])"
   ]
  },
  {
   "cell_type": "markdown",
   "metadata": {},
   "source": [
    "<b>Observations:</b>\n",
    "<ul>\n",
    "    <li>No missing values\n",
    "     <li>Most of the columns are Skewed or  Highly Skewed\n",
    " "
   ]
  },
  {
   "cell_type": "code",
   "execution_count": 33,
   "metadata": {},
   "outputs": [
    {
     "data": {
      "image/png": "[encoded data removed]",
      "text/plain": [
       "<Figure size 1440x1080 with 16 Axes>"
      ]
     },
     "metadata": {
      "needs_background": "light"
     },
     "output_type": "display_data"
    }
   ],
   "source": [
    "# For Random seed values\n",
    "from random import randint\n",
    "fig, axes = plt.subplots(nrows = 4, ncols = 4, sharex = False, figsize=(20, 15))\n",
    "colors = []\n",
    "for i in range(16):\n",
    "  colors.append('#%06X' % randint(0, 0xFFFFFF))\n",
    "  columns=['year_last_moved','Average_Credit_Card_Transaction', 'Balance_Transfer', 'Term_Deposit', 'Life_Insurance', 'Medical_Insurance', 'Average_A/C_Balance', 'Personal_Loan', 'Investment_in_Mutual_Fund', 'Investment_Tax_Saving_Bond', 'Home_Loan', 'Online_Purchase_Amount', 'Investment_in_Commudity', 'Investment_in_Equity', 'Investment_in_Derivative', 'Portfolio_Balance']\n",
    "for ax, col, color in zip(axes.flat, columns, colors):\n",
    "  sns.distplot(a = cust[col], bins = 50, ax = ax, color = color)\n",
    "  ax.set_title(col)\n",
    "  plt.setp(axes, yticks=[])\n",
    "  ax.grid(False)\n",
    "plt.tight_layout()\n",
    "plt.show()"
   ]
  },
  {
   "cell_type": "code",
   "execution_count": 39,
   "metadata": {},
   "outputs": [
    {
     "name": "stdout",
     "output_type": "stream",
     "text": [
      "Categorical variables:\n",
      "['children', 'age_band', 'status', 'occupation', 'occupation_partner', 'home_status', 'family_income', 'self_employed', 'self_employed_partner', 'TVarea', 'post_code', 'post_area', 'gender', 'region']\n"
     ]
    },
    {
     "data": {
      "image/png": "[encoded data removed]",
      "text/plain": [
       "<Figure size 1440x864 with 16 Axes>"
      ]
     },
     "metadata": {
      "needs_background": "light"
     },
     "output_type": "display_data"
    }
   ],
   "source": [
    "# Get list of categorical variables\n",
    "s = (cust.dtypes == 'object')\n",
    "object_cols = list(s[s].index)\n",
    "\n",
    "print(\"Categorical variables:\")\n",
    "print(object_cols)\n",
    "fig, axes = plt.subplots(nrows = 4, ncols = 4, sharex = False, figsize=(20, 12))\n",
    "\n",
    "colors = []\n",
    "for i in range(14):\n",
    "  colors.append('#%06X' % randint(0, 0xFFFFFF))\n",
    "  \n",
    "for ax, col, color in zip(axes.flat, object_cols, colors):\n",
    "  ax.bar(x = cust[col].value_counts().index, height = cust[col].value_counts(), color = color)\n",
    "  ax.set_title(col)\n",
    "  ax.set_xlabel(' ')\n",
    "  ax.set_xticklabels(labels = ' ')\n",
    "  ax.grid(True)"
   ]
  },
  {
   "cell_type": "markdown",
   "metadata": {},
   "source": [
    "<a name = Section5></a>\n",
    "### **5 Data Post-Processing**"
   ]
  },
  {
   "cell_type": "markdown",
   "metadata": {},
   "source": [
    "<a name = Section51></a>\n",
    "### **5.1 Feature Engineering**\n"
   ]
  },
  {
   "cell_type": "markdown",
   "metadata": {},
   "source": [
    "To avoid increasing the dimensions after one hot encoding:\n",
    "<ul>\n",
    "    <li>Home status has been reduced to only 2 values\n",
    "        <ul>\n",
    "            <li>Owner</li>\n",
    "            <li>Rent</li>\n",
    "        </ul>\n",
    "    </li>\n",
    "    <li>Divided all the values of Occupation field in to 2 categories \n",
    "        <ul>\n",
    "            <li>Working</li> \n",
    "            <li>non working</li>\n",
    "         </ul>\n",
    "     </li>\n",
    "    <li>Merging the <b>occupation</b> and <b>occupation_partner</b> made a new field <b>occupation_Status_new</b>\n",
    "        <ul>\n",
    "            <li>both working\n",
    "            <li>both not working\n",
    "            <li>single\n",
    "        </ul>\n",
    "     </li>\n",
    "    <li>Merged the columns <b>self_employed</b> and <b>self_employed_partner</b> to make a new column self_employed_new with values\n",
    "        <ul>\n",
    "            <li>both_yes\n",
    "             <li>both_no\n",
    "              <li>Single\n",
    "        </ul>\n",
    "\n",
    "\n"
   ]
  },
  {
   "cell_type": "code",
   "execution_count": 40,
   "metadata": {},
   "outputs": [
    {
     "data": {
      "text/plain": [
       "(8124, 38)"
      ]
     },
     "execution_count": 40,
     "metadata": {},
     "output_type": "execute_result"
    }
   ],
   "source": [
    "def home_stat(g): \n",
    "    if g =='Own Home':\n",
    "        return 'Owner'\n",
    "    elif g == 'Rent Privately':\n",
    "        return 'Rent'\n",
    "    elif g == 'Rent from Council/HA':\n",
    "        return 'Rent'\n",
    "    elif g == 'Live in Parental Hom':\n",
    "        return 'Rent'\n",
    "    elif g in 'Unclassified':\n",
    "        return 'Rent'\n",
    "working=['Professional','Manual Worker','Business Manager','Secretarial/Admin','Other']\n",
    "non_working=['Retired','Housewife','Student']\n",
    "def occ(g):\n",
    "    if (g.occupation in working) & (g.occupation_partner in working):\n",
    "        return 'both_working'\n",
    "    elif (g.occupation in non_working) & (g.occupation_partner in non_working):\n",
    "        return 'both_non_working'\n",
    "    else:\n",
    "        return 'single'\n",
    "def self_emp(g):\n",
    "    if (g.self_employed == 'Yes') & (g.self_employed_partner == 'Yes'):\n",
    "        return 'both_yes'\n",
    "    elif (g.self_employed == 'No') & (g.self_employed_partner == 'No'):\n",
    "        return 'both_no'\n",
    "    else:\n",
    "        return 'single'\n",
    "\n",
    "def feature_engg():\n",
    "    cust['children']=cust['children'].replace('Zero','0')# replacing 'Zero' with numeric value\n",
    "    cust['children']=cust['children'].replace('4+','4') # replacing '+4' with 4 so whole column can be converted to int field\n",
    "    cust['family_income']=cust['family_income'].replace(['>=35,000','<22,500, >=20,000','<25,000, >=22,500','<30,000, >=27,500', '<20,000, >=17,500','<27,500, >=25,000','< 4,000', '<15,000, >=12,500', '<17,500, >=15,000','< 8,000, >= 4,000', '<12,500, >=10,000', '<10,000, >= 8,000'],['35000+','20,000-22,500','22,500-25,000','27,500-27,500','17,500-20,000','25,000-27,500','0-4,000','12,500-15,000','15,000-17,500','4,000-8,000','10,000-12,500','8,000-10,000'])\n",
    "    cust['total_invest']=cust.Investment_in_Mutual_Fund+cust.Investment_Tax_Saving_Bond+cust.Portfolio_Balance\n",
    "    cust['total_loan']=cust.Personal_Loan+cust.Home_Loan\n",
    "    cust['total_isurance']=cust.Life_Insurance+cust.Medical_Insurance\n",
    "    cust['home_status_new']=cust['home_status'].apply(home_stat)\n",
    "    cust['occupation_Status_new']=cust.apply(occ,axis=1)\n",
    "    cust['self_employed_new']=cust.apply(self_emp,axis=1)\n",
    "feature_engg()\n",
    "cust.shape"
   ]
  },
  {
   "cell_type": "code",
   "execution_count": 41,
   "metadata": {},
   "outputs": [
    {
     "data": {
      "text/plain": [
       "(8124, 38)"
      ]
     },
     "execution_count": 41,
     "metadata": {},
     "output_type": "execute_result"
    }
   ],
   "source": [
    "cust.shape"
   ]
  },
  {
   "cell_type": "code",
   "execution_count": 42,
   "metadata": {},
   "outputs": [],
   "source": [
    "cust_new=cust[['REF_NO','children','age_band','status','family_income','post_area','Average_Credit_Card_Transaction','Balance_Transfer','Term_Deposit', 'total_isurance','Average_A/C_Balance','Online_Purchase_Amount','gender', 'region','total_invest', 'total_loan', 'home_status_new','occupation_Status_new', 'self_employed_new','Revenue_Grid']]"
   ]
  },
  {
   "cell_type": "markdown",
   "metadata": {},
   "source": [
    "<a name = Section52></a>\n",
    "### **5.2 Data Encoding**"
   ]
  },
  {
   "cell_type": "code",
   "execution_count": 93,
   "metadata": {},
   "outputs": [],
   "source": [
    "#One hot encoding\n",
    "def encoding_stat(cust_new):\n",
    "    stat=pd.get_dummies(cust_new.status)\n",
    "    stat.head(10)\n",
    "    stat.drop('Unknown',axis=1,inplace=True)\n",
    "    cust_new=pd.concat([cust_new,stat],axis=1)\n",
    "    return cust_new\n",
    "cust_new=encoding_stat(cust_new)\n",
    "\n"
   ]
  },
  {
   "cell_type": "code",
   "execution_count": 94,
   "metadata": {},
   "outputs": [
    {
     "data": {
      "text/plain": [
       "(8124, 24)"
      ]
     },
     "execution_count": 94,
     "metadata": {},
     "output_type": "execute_result"
    }
   ],
   "source": [
    "cust_new.shape"
   ]
  },
  {
   "cell_type": "code",
   "execution_count": 95,
   "metadata": {},
   "outputs": [
    {
     "data": {
      "text/plain": [
       "Index(['REF_NO', 'children', 'age_band', 'status', 'family_income',\n",
       "       'post_area', 'Average_Credit_Card_Transaction', 'Balance_Transfer',\n",
       "       'Term_Deposit', 'total_isurance', 'Average_A/C_Balance',\n",
       "       'Online_Purchase_Amount', 'gender', 'region', 'total_invest',\n",
       "       'total_loan', 'home_status_new', 'occupation_Status_new',\n",
       "       'self_employed_new', 'Revenue_Grid', 'Divorced/Separated', 'Partner',\n",
       "       'Single/Never Married', 'Widowed'],\n",
       "      dtype='object')"
      ]
     },
     "execution_count": 95,
     "metadata": {},
     "output_type": "execute_result"
    }
   ],
   "source": [
    "cust_new.columns"
   ]
  },
  {
   "cell_type": "code",
   "execution_count": 96,
   "metadata": {},
   "outputs": [],
   "source": [
    "def encoding(cust_new):\n",
    "    cat_columns=['home_status_new','occupation_Status_new','self_employed_new']\n",
    "    cat_dum=pd.get_dummies(cust_new[cat_columns],drop_first=True)\n",
    "    cust_new=pd.concat([cust_new,cat_dum],axis=1)\n",
    "    return cust_new\n",
    "cust_new=encoding(cust_new)"
   ]
  },
  {
   "cell_type": "code",
   "execution_count": 97,
   "metadata": {},
   "outputs": [
    {
     "data": {
      "text/plain": [
       "Index(['REF_NO', 'children', 'age_band', 'status', 'family_income',\n",
       "       'post_area', 'Average_Credit_Card_Transaction', 'Balance_Transfer',\n",
       "       'Term_Deposit', 'total_isurance', 'Average_A/C_Balance',\n",
       "       'Online_Purchase_Amount', 'gender', 'region', 'total_invest',\n",
       "       'total_loan', 'home_status_new', 'occupation_Status_new',\n",
       "       'self_employed_new', 'Revenue_Grid', 'Divorced/Separated', 'Partner',\n",
       "       'Single/Never Married', 'Widowed', 'home_status_new_Rent',\n",
       "       'occupation_Status_new_both_working', 'occupation_Status_new_single',\n",
       "       'self_employed_new_both_yes', 'self_employed_new_single'],\n",
       "      dtype='object')"
      ]
     },
     "execution_count": 97,
     "metadata": {},
     "output_type": "execute_result"
    }
   ],
   "source": [
    "cust_new.columns"
   ]
  },
  {
   "cell_type": "code",
   "execution_count": 98,
   "metadata": {},
   "outputs": [
    {
     "data": {
      "text/plain": [
       "(8124, 29)"
      ]
     },
     "execution_count": 98,
     "metadata": {},
     "output_type": "execute_result"
    }
   ],
   "source": [
    "cust_new.shape"
   ]
  },
  {
   "cell_type": "code",
   "execution_count": 99,
   "metadata": {},
   "outputs": [
    {
     "data": {
      "text/plain": [
       "Index(['REF_NO', 'children', 'age_band', 'status', 'family_income',\n",
       "       'post_area', 'Average_Credit_Card_Transaction', 'Balance_Transfer',\n",
       "       'Term_Deposit', 'total_isurance', 'Average_A/C_Balance',\n",
       "       'Online_Purchase_Amount', 'gender', 'region', 'total_invest',\n",
       "       'total_loan', 'home_status_new', 'occupation_Status_new',\n",
       "       'self_employed_new', 'Revenue_Grid', 'Divorced/Separated', 'Partner',\n",
       "       'Single/Never Married', 'Widowed', 'home_status_new_Rent',\n",
       "       'occupation_Status_new_both_working', 'occupation_Status_new_single',\n",
       "       'self_employed_new_both_yes', 'self_employed_new_single'],\n",
       "      dtype='object')"
      ]
     },
     "execution_count": 99,
     "metadata": {},
     "output_type": "execute_result"
    }
   ],
   "source": [
    "cust_new.columns"
   ]
  },
  {
   "cell_type": "code",
   "execution_count": 100,
   "metadata": {},
   "outputs": [],
   "source": [
    "cust_new.drop(['home_status_new','occupation_Status_new','self_employed_new','status'],axis=1,inplace=True)"
   ]
  },
  {
   "cell_type": "code",
   "execution_count": 101,
   "metadata": {},
   "outputs": [
    {
     "data": {
      "text/plain": [
       "Female     6106\n",
       "Male       1987\n",
       "Unknown      31\n",
       "Name: gender, dtype: int64"
      ]
     },
     "execution_count": 101,
     "metadata": {},
     "output_type": "execute_result"
    }
   ],
   "source": [
    "cust_new.gender.value_counts()"
   ]
  },
  {
   "cell_type": "code",
   "execution_count": 102,
   "metadata": {},
   "outputs": [
    {
     "data": {
      "text/html": [
       "<div>\n",
       "<style scoped>\n",
       "    .dataframe tbody tr th:only-of-type {\n",
       "        vertical-align: middle;\n",
       "    }\n",
       "\n",
       "    .dataframe tbody tr th {\n",
       "        vertical-align: top;\n",
       "    }\n",
       "\n",
       "    .dataframe thead th {\n",
       "        text-align: right;\n",
       "    }\n",
       "</style>\n",
       "<table border=\"1\" class=\"dataframe\">\n",
       "  <thead>\n",
       "    <tr style=\"text-align: right;\">\n",
       "      <th></th>\n",
       "      <th>REF_NO</th>\n",
       "      <th>children</th>\n",
       "      <th>age_band</th>\n",
       "      <th>family_income</th>\n",
       "      <th>post_area</th>\n",
       "      <th>Average_Credit_Card_Transaction</th>\n",
       "      <th>Balance_Transfer</th>\n",
       "      <th>Term_Deposit</th>\n",
       "      <th>total_isurance</th>\n",
       "      <th>Average_A/C_Balance</th>\n",
       "      <th>Online_Purchase_Amount</th>\n",
       "      <th>gender</th>\n",
       "      <th>region</th>\n",
       "      <th>total_invest</th>\n",
       "      <th>total_loan</th>\n",
       "      <th>Revenue_Grid</th>\n",
       "      <th>Divorced/Separated</th>\n",
       "      <th>Partner</th>\n",
       "      <th>Single/Never Married</th>\n",
       "      <th>Widowed</th>\n",
       "      <th>home_status_new_Rent</th>\n",
       "      <th>occupation_Status_new_both_working</th>\n",
       "      <th>occupation_Status_new_single</th>\n",
       "      <th>self_employed_new_both_yes</th>\n",
       "      <th>self_employed_new_single</th>\n",
       "    </tr>\n",
       "  </thead>\n",
       "  <tbody>\n",
       "    <tr>\n",
       "      <th>0</th>\n",
       "      <td>5466</td>\n",
       "      <td>2</td>\n",
       "      <td>31-35</td>\n",
       "      <td>35000+</td>\n",
       "      <td>M51</td>\n",
       "      <td>26.98</td>\n",
       "      <td>29.99</td>\n",
       "      <td>312.25</td>\n",
       "      <td>388.51</td>\n",
       "      <td>108.85</td>\n",
       "      <td>7.68</td>\n",
       "      <td>Female</td>\n",
       "      <td>North West</td>\n",
       "      <td>503.70</td>\n",
       "      <td>230.87</td>\n",
       "      <td>2</td>\n",
       "      <td>0</td>\n",
       "      <td>1</td>\n",
       "      <td>0</td>\n",
       "      <td>0</td>\n",
       "      <td>0</td>\n",
       "      <td>1</td>\n",
       "      <td>0</td>\n",
       "      <td>0</td>\n",
       "      <td>0</td>\n",
       "    </tr>\n",
       "    <tr>\n",
       "      <th>1</th>\n",
       "      <td>9091</td>\n",
       "      <td>0</td>\n",
       "      <td>45-50</td>\n",
       "      <td>35000+</td>\n",
       "      <td>L40</td>\n",
       "      <td>35.98</td>\n",
       "      <td>74.48</td>\n",
       "      <td>0.00</td>\n",
       "      <td>110.95</td>\n",
       "      <td>48.45</td>\n",
       "      <td>18.99</td>\n",
       "      <td>Female</td>\n",
       "      <td>North West</td>\n",
       "      <td>89.22</td>\n",
       "      <td>15.99</td>\n",
       "      <td>2</td>\n",
       "      <td>0</td>\n",
       "      <td>1</td>\n",
       "      <td>0</td>\n",
       "      <td>0</td>\n",
       "      <td>0</td>\n",
       "      <td>1</td>\n",
       "      <td>0</td>\n",
       "      <td>0</td>\n",
       "      <td>0</td>\n",
       "    </tr>\n",
       "    <tr>\n",
       "      <th>2</th>\n",
       "      <td>9744</td>\n",
       "      <td>1</td>\n",
       "      <td>36-40</td>\n",
       "      <td>20,000-22,500</td>\n",
       "      <td>TA19</td>\n",
       "      <td>0.00</td>\n",
       "      <td>24.46</td>\n",
       "      <td>0.00</td>\n",
       "      <td>18.44</td>\n",
       "      <td>0.00</td>\n",
       "      <td>0.00</td>\n",
       "      <td>Female</td>\n",
       "      <td>South West</td>\n",
       "      <td>24.96</td>\n",
       "      <td>0.02</td>\n",
       "      <td>2</td>\n",
       "      <td>0</td>\n",
       "      <td>1</td>\n",
       "      <td>0</td>\n",
       "      <td>0</td>\n",
       "      <td>1</td>\n",
       "      <td>1</td>\n",
       "      <td>0</td>\n",
       "      <td>1</td>\n",
       "      <td>0</td>\n",
       "    </tr>\n",
       "    <tr>\n",
       "      <th>3</th>\n",
       "      <td>10700</td>\n",
       "      <td>2</td>\n",
       "      <td>31-35</td>\n",
       "      <td>22,500-25,000</td>\n",
       "      <td>FK2</td>\n",
       "      <td>44.99</td>\n",
       "      <td>0.00</td>\n",
       "      <td>0.00</td>\n",
       "      <td>29.99</td>\n",
       "      <td>0.00</td>\n",
       "      <td>0.00</td>\n",
       "      <td>Female</td>\n",
       "      <td>Scotland</td>\n",
       "      <td>68.98</td>\n",
       "      <td>0.00</td>\n",
       "      <td>2</td>\n",
       "      <td>0</td>\n",
       "      <td>1</td>\n",
       "      <td>0</td>\n",
       "      <td>0</td>\n",
       "      <td>0</td>\n",
       "      <td>1</td>\n",
       "      <td>0</td>\n",
       "      <td>0</td>\n",
       "      <td>0</td>\n",
       "    </tr>\n",
       "    <tr>\n",
       "      <th>4</th>\n",
       "      <td>1987</td>\n",
       "      <td>0</td>\n",
       "      <td>55-60</td>\n",
       "      <td>35000+</td>\n",
       "      <td>LS23</td>\n",
       "      <td>0.00</td>\n",
       "      <td>0.00</td>\n",
       "      <td>0.00</td>\n",
       "      <td>0.00</td>\n",
       "      <td>0.00</td>\n",
       "      <td>0.00</td>\n",
       "      <td>Female</td>\n",
       "      <td>Unknown</td>\n",
       "      <td>11.86</td>\n",
       "      <td>0.00</td>\n",
       "      <td>2</td>\n",
       "      <td>0</td>\n",
       "      <td>1</td>\n",
       "      <td>0</td>\n",
       "      <td>0</td>\n",
       "      <td>0</td>\n",
       "      <td>0</td>\n",
       "      <td>1</td>\n",
       "      <td>0</td>\n",
       "      <td>0</td>\n",
       "    </tr>\n",
       "  </tbody>\n",
       "</table>\n",
       "</div>"
      ],
      "text/plain": [
       "   REF_NO children age_band  family_income post_area  \\\n",
       "0    5466        2    31-35         35000+       M51   \n",
       "1    9091        0    45-50         35000+       L40   \n",
       "2    9744        1    36-40  20,000-22,500      TA19   \n",
       "3   10700        2    31-35  22,500-25,000       FK2   \n",
       "4    1987        0    55-60         35000+      LS23   \n",
       "\n",
       "   Average_Credit_Card_Transaction  Balance_Transfer  Term_Deposit  \\\n",
       "0                            26.98             29.99        312.25   \n",
       "1                            35.98             74.48          0.00   \n",
       "2                             0.00             24.46          0.00   \n",
       "3                            44.99              0.00          0.00   \n",
       "4                             0.00              0.00          0.00   \n",
       "\n",
       "   total_isurance  Average_A/C_Balance  Online_Purchase_Amount  gender  \\\n",
       "0          388.51               108.85                    7.68  Female   \n",
       "1          110.95                48.45                   18.99  Female   \n",
       "2           18.44                 0.00                    0.00  Female   \n",
       "3           29.99                 0.00                    0.00  Female   \n",
       "4            0.00                 0.00                    0.00  Female   \n",
       "\n",
       "       region  total_invest  total_loan  Revenue_Grid  Divorced/Separated  \\\n",
       "0  North West        503.70      230.87             2                   0   \n",
       "1  North West         89.22       15.99             2                   0   \n",
       "2  South West         24.96        0.02             2                   0   \n",
       "3    Scotland         68.98        0.00             2                   0   \n",
       "4     Unknown         11.86        0.00             2                   0   \n",
       "\n",
       "   Partner  Single/Never Married  Widowed  home_status_new_Rent  \\\n",
       "0        1                     0        0                     0   \n",
       "1        1                     0        0                     0   \n",
       "2        1                     0        0                     1   \n",
       "3        1                     0        0                     0   \n",
       "4        1                     0        0                     0   \n",
       "\n",
       "   occupation_Status_new_both_working  occupation_Status_new_single  \\\n",
       "0                                   1                             0   \n",
       "1                                   1                             0   \n",
       "2                                   1                             0   \n",
       "3                                   1                             0   \n",
       "4                                   0                             1   \n",
       "\n",
       "   self_employed_new_both_yes  self_employed_new_single  \n",
       "0                           0                         0  \n",
       "1                           0                         0  \n",
       "2                           1                         0  \n",
       "3                           0                         0  \n",
       "4                           0                         0  "
      ]
     },
     "execution_count": 102,
     "metadata": {},
     "output_type": "execute_result"
    }
   ],
   "source": [
    "cust_new.head()"
   ]
  },
  {
   "cell_type": "code",
   "execution_count": 103,
   "metadata": {},
   "outputs": [],
   "source": [
    "def encoding_gender(cust_new):\n",
    "    gender=pd.get_dummies(cust_new.gender)\n",
    "    #gender.head(10)\n",
    "    gender.drop('Unknown',axis=1,inplace=True)\n",
    "    cust_new=pd.concat([cust_new,gender],axis=1)\n",
    "    return cust_new\n",
    "cust_new=encoding_gender(cust_new)"
   ]
  },
  {
   "cell_type": "code",
   "execution_count": 104,
   "metadata": {},
   "outputs": [
    {
     "data": {
      "text/plain": [
       "(8124, 27)"
      ]
     },
     "execution_count": 104,
     "metadata": {},
     "output_type": "execute_result"
    }
   ],
   "source": [
    "cust_new.shape"
   ]
  },
  {
   "cell_type": "code",
   "execution_count": 105,
   "metadata": {},
   "outputs": [
    {
     "data": {
      "text/plain": [
       "Index(['REF_NO', 'children', 'age_band', 'family_income', 'post_area',\n",
       "       'Average_Credit_Card_Transaction', 'Balance_Transfer', 'Term_Deposit',\n",
       "       'total_isurance', 'Average_A/C_Balance', 'Online_Purchase_Amount',\n",
       "       'gender', 'region', 'total_invest', 'total_loan', 'Revenue_Grid',\n",
       "       'Divorced/Separated', 'Partner', 'Single/Never Married', 'Widowed',\n",
       "       'home_status_new_Rent', 'occupation_Status_new_both_working',\n",
       "       'occupation_Status_new_single', 'self_employed_new_both_yes',\n",
       "       'self_employed_new_single', 'Female', 'Male'],\n",
       "      dtype='object')"
      ]
     },
     "execution_count": 105,
     "metadata": {},
     "output_type": "execute_result"
    }
   ],
   "source": [
    "cust_new.columns"
   ]
  },
  {
   "cell_type": "code",
   "execution_count": 106,
   "metadata": {},
   "outputs": [],
   "source": [
    "cust_new.drop('gender',axis=1,inplace=True)"
   ]
  },
  {
   "cell_type": "code",
   "execution_count": 107,
   "metadata": {},
   "outputs": [
    {
     "data": {
      "text/plain": [
       "Index(['REF_NO', 'children', 'age_band', 'family_income', 'post_area',\n",
       "       'Average_Credit_Card_Transaction', 'Balance_Transfer', 'Term_Deposit',\n",
       "       'total_isurance', 'Average_A/C_Balance', 'Online_Purchase_Amount',\n",
       "       'region', 'total_invest', 'total_loan', 'Revenue_Grid',\n",
       "       'Divorced/Separated', 'Partner', 'Single/Never Married', 'Widowed',\n",
       "       'home_status_new_Rent', 'occupation_Status_new_both_working',\n",
       "       'occupation_Status_new_single', 'self_employed_new_both_yes',\n",
       "       'self_employed_new_single', 'Female', 'Male'],\n",
       "      dtype='object')"
      ]
     },
     "execution_count": 107,
     "metadata": {},
     "output_type": "execute_result"
    }
   ],
   "source": [
    "cust_new.columns"
   ]
  },
  {
   "cell_type": "code",
   "execution_count": 108,
   "metadata": {},
   "outputs": [],
   "source": [
    "#label encoding for age_band\n",
    "ageband_map={\n",
    "                'Unknown':0, '18-21':1, '22-25':2,'26-30':3, '31-35':4,'36-40':5,'41-45':6, '45-50':7,\n",
    "                 '51-55':8,'55-60':9, '61-65':10, '65-70':11,'71+':12 \n",
    "}\n",
    "cust_new['ageband_ordinal']=cust_new.age_band.map(ageband_map)"
   ]
  },
  {
   "cell_type": "code",
   "execution_count": 109,
   "metadata": {},
   "outputs": [],
   "source": [
    "cust_new.drop('age_band',axis=1,inplace=True)"
   ]
  },
  {
   "cell_type": "code",
   "execution_count": 110,
   "metadata": {},
   "outputs": [],
   "source": [
    "#label encoding for age_band\n",
    "family_income_map={\n",
    "                'Unknown':0, '0-4,000':1, '4,000-8,000':2,'8,000-10,000':3, '10,000-12,500':4,'12,500-15,000':5,'15,000-17,500':6, '17,500-20,000':7,\n",
    "                 '20,000-22,500':8,'22,500-25,000':9, '25,000-27,500':10, '27,500-27,500':11,'35000+':12 \n",
    "}\n",
    "cust_new['family_income_ordinal']=cust_new.family_income.map(family_income_map)"
   ]
  },
  {
   "cell_type": "code",
   "execution_count": 111,
   "metadata": {},
   "outputs": [],
   "source": [
    "cust_new.drop('family_income',axis=1,inplace=True)"
   ]
  },
  {
   "cell_type": "code",
   "execution_count": 112,
   "metadata": {},
   "outputs": [
    {
     "data": {
      "text/plain": [
       "South East          1680\n",
       "North West          1517\n",
       "Unknown              866\n",
       "South West           769\n",
       "West Midlands        658\n",
       "East Midlands        623\n",
       "Scotland             615\n",
       "North                460\n",
       "Wales                437\n",
       "East Anglia          344\n",
       "Northern Ireland     135\n",
       "Isle of Man           15\n",
       "Channel Islands        5\n",
       "Name: region, dtype: int64"
      ]
     },
     "execution_count": 112,
     "metadata": {},
     "output_type": "execute_result"
    }
   ],
   "source": [
    "#we can replace with its value counts as no one is same number\n",
    "cust_new.region.value_counts()"
   ]
  },
  {
   "cell_type": "code",
   "execution_count": 113,
   "metadata": {},
   "outputs": [],
   "source": [
    "reg=cust_new.groupby('region').size()/len(cust_new)\n",
    "cust_new.loc[:,'region_encoded']=cust_new.region.map(reg)\n",
    "# try with just value count if F1 changes"
   ]
  },
  {
   "cell_type": "code",
   "execution_count": 114,
   "metadata": {},
   "outputs": [],
   "source": [
    "cust_new.drop('post_area',axis=1,inplace=True)"
   ]
  },
  {
   "cell_type": "code",
   "execution_count": 115,
   "metadata": {},
   "outputs": [],
   "source": [
    "cust_new.drop('region',axis=1,inplace=True)"
   ]
  },
  {
   "cell_type": "code",
   "execution_count": 116,
   "metadata": {},
   "outputs": [
    {
     "data": {
      "text/plain": [
       "Index(['REF_NO', 'children', 'Average_Credit_Card_Transaction',\n",
       "       'Balance_Transfer', 'Term_Deposit', 'total_isurance',\n",
       "       'Average_A/C_Balance', 'Online_Purchase_Amount', 'total_invest',\n",
       "       'total_loan', 'Revenue_Grid', 'Divorced/Separated', 'Partner',\n",
       "       'Single/Never Married', 'Widowed', 'home_status_new_Rent',\n",
       "       'occupation_Status_new_both_working', 'occupation_Status_new_single',\n",
       "       'self_employed_new_both_yes', 'self_employed_new_single', 'Female',\n",
       "       'Male', 'ageband_ordinal', 'family_income_ordinal', 'region_encoded'],\n",
       "      dtype='object')"
      ]
     },
     "execution_count": 116,
     "metadata": {},
     "output_type": "execute_result"
    }
   ],
   "source": [
    "cust_new.columns"
   ]
  },
  {
   "cell_type": "markdown",
   "metadata": {},
   "source": [
    "<a name = Section53></a>\n",
    "### **5.3 Data Preparation**\n",
    "\n",
    "- Now we will **split** our **data** into **dependent** and **independent** variables for further development "
   ]
  },
  {
   "cell_type": "code",
   "execution_count": 117,
   "metadata": {},
   "outputs": [],
   "source": [
    "independent_cols=['REF_NO', 'children', 'Average_Credit_Card_Transaction',\n",
    "       'Balance_Transfer', 'Term_Deposit', 'total_isurance',\n",
    "       'Average_A/C_Balance', 'Online_Purchase_Amount', 'total_invest',\n",
    "       'total_loan','Divorced/Separated', 'Partner',\n",
    "       'Single/Never Married', 'Widowed', 'home_status_new_Rent',\n",
    "       'occupation_Status_new_both_working', 'occupation_Status_new_single',\n",
    "       'self_employed_new_both_yes', 'self_employed_new_single', 'Female',\n",
    "       'Male', 'ageband_ordinal', 'family_income_ordinal']# removed , 'region_encoded'\n",
    "X=cust_new[independent_cols] \n",
    "y=cust_new.Revenue_Grid"
   ]
  },
  {
   "cell_type": "code",
   "execution_count": 118,
   "metadata": {},
   "outputs": [
    {
     "data": {
      "text/plain": [
       "(8124, 23)"
      ]
     },
     "execution_count": 118,
     "metadata": {},
     "output_type": "execute_result"
    }
   ],
   "source": [
    "X.shape"
   ]
  },
  {
   "cell_type": "code",
   "execution_count": 119,
   "metadata": {},
   "outputs": [
    {
     "data": {
      "text/plain": [
       "(8124,)"
      ]
     },
     "execution_count": 119,
     "metadata": {},
     "output_type": "execute_result"
    }
   ],
   "source": [
    "y.shape"
   ]
  },
  {
   "cell_type": "code",
   "execution_count": 120,
   "metadata": {},
   "outputs": [],
   "source": [
    "# Splitting data into training and testing sets with using Validation Test Data as 20%\n",
    "from sklearn.model_selection import train_test_split\n",
    "X_train, X_test, y_train, y_test = train_test_split(X, y, test_size=0.2)"
   ]
  },
  {
   "cell_type": "markdown",
   "metadata": {},
   "source": [
    "<a name = Section54></a>\n",
    "### **5.4 Data Scaling**"
   ]
  },
  {
   "cell_type": "code",
   "execution_count": 121,
   "metadata": {},
   "outputs": [],
   "source": [
    "from sklearn.preprocessing import RobustScaler\n",
    "robust = RobustScaler()\n",
    "X_train[independent_cols] = robust.fit_transform(X_train)\n",
    "X_test[independent_cols] = robust.transform(X_test)"
   ]
  },
  {
   "cell_type": "markdown",
   "metadata": {},
   "source": [
    "---\n",
    "<a name = Section6></a>\n",
    "### **6. Model Development & Evaluation**\n",
    "---\n",
    "\n",
    "- In this section we will **develop a Logistic Regression model**\n",
    "\n",
    "- Then we will **analyze the results** obtained and **make our observations**.\n",
    "\n",
    "- For **evaluation purpose** we will **focus** on **F1 Score** score as required by this project."
   ]
  },
  {
   "cell_type": "markdown",
   "metadata": {},
   "source": [
    "<a name = Section61></a>\n",
    "### **6.1 Baseline Model Development**\n",
    "\n",
    "- Here we will develop Logistic Regression classification model using default setting."
   ]
  },
  {
   "cell_type": "code",
   "execution_count": 43,
   "metadata": {},
   "outputs": [
    {
     "ename": "NameError",
     "evalue": "name 'X_train' is not defined",
     "output_type": "error",
     "traceback": [
      "\u001b[1;31m---------------------------------------------------------------------------\u001b[0m",
      "\u001b[1;31mNameError\u001b[0m                                 Traceback (most recent call last)",
      "\u001b[1;32m<ipython-input-43-e2691f57f191>\u001b[0m in \u001b[0;36m<module>\u001b[1;34m\u001b[0m\n\u001b[0;32m      1\u001b[0m \u001b[1;32mfrom\u001b[0m \u001b[0msklearn\u001b[0m\u001b[1;33m.\u001b[0m\u001b[0mlinear_model\u001b[0m \u001b[1;32mimport\u001b[0m \u001b[0mLogisticRegression\u001b[0m\u001b[1;33m\u001b[0m\u001b[1;33m\u001b[0m\u001b[0m\n\u001b[0;32m      2\u001b[0m \u001b[0mlogreg\u001b[0m \u001b[1;33m=\u001b[0m \u001b[0mLogisticRegression\u001b[0m\u001b[1;33m(\u001b[0m\u001b[1;33m)\u001b[0m\u001b[1;33m\u001b[0m\u001b[1;33m\u001b[0m\u001b[0m\n\u001b[1;32m----> 3\u001b[1;33m \u001b[0mlogreg\u001b[0m\u001b[1;33m.\u001b[0m\u001b[0mfit\u001b[0m\u001b[1;33m(\u001b[0m\u001b[0mX_train\u001b[0m\u001b[1;33m,\u001b[0m\u001b[0my_train\u001b[0m\u001b[1;33m)\u001b[0m\u001b[1;33m\u001b[0m\u001b[1;33m\u001b[0m\u001b[0m\n\u001b[0m",
      "\u001b[1;31mNameError\u001b[0m: name 'X_train' is not defined"
     ]
    }
   ],
   "source": [
    "from sklearn.linear_model import LogisticRegression \n",
    "logreg = LogisticRegression()\n",
    "logreg.fit(X_train,y_train)"
   ]
  },
  {
   "cell_type": "code",
   "execution_count": 123,
   "metadata": {},
   "outputs": [],
   "source": [
    "#predicting on train data\n",
    "y_pred_train = logreg.predict(X_train)\n",
    "\n",
    "#predicting on test data\n",
    "y_pred_test = logreg.predict(X_test)"
   ]
  },
  {
   "cell_type": "markdown",
   "metadata": {},
   "source": [
    "<a name = Section62></a>\n",
    "### **6.2 Model Evaluation**"
   ]
  },
  {
   "cell_type": "code",
   "execution_count": 124,
   "metadata": {},
   "outputs": [
    {
     "name": "stdout",
     "output_type": "stream",
     "text": [
      "Accuracy score for test data is: 0.9372307692307692\n"
     ]
    }
   ],
   "source": [
    "from sklearn.metrics import accuracy_score   \n",
    "pred = logreg.predict(X_test)\n",
    "print('Accuracy score for test data is:', accuracy_score(y_test,pred))"
   ]
  },
  {
   "cell_type": "code",
   "execution_count": 125,
   "metadata": {},
   "outputs": [
    {
     "data": {
      "text/plain": [
       "0.6304347826086956"
      ]
     },
     "execution_count": 125,
     "metadata": {},
     "output_type": "execute_result"
    }
   ],
   "source": [
    "from sklearn.metrics import f1_score    \n",
    "f1_score(y_test,y_pred_test)"
   ]
  },
  {
   "cell_type": "code",
   "execution_count": 126,
   "metadata": {},
   "outputs": [
    {
     "name": "stdout",
     "output_type": "stream",
     "text": [
      "              precision    recall  f1-score   support\n",
      "\n",
      "           1       0.82      0.51      0.63       170\n",
      "           2       0.95      0.99      0.97      1455\n",
      "\n",
      "    accuracy                           0.94      1625\n",
      "   macro avg       0.88      0.75      0.80      1625\n",
      "weighted avg       0.93      0.94      0.93      1625\n",
      "\n"
     ]
    }
   ],
   "source": [
    "from sklearn.metrics import accuracy_score, classification_report, confusion_matrix\n",
    "print(classification_report(y_test, y_pred_test))"
   ]
  },
  {
   "cell_type": "markdown",
   "metadata": {},
   "source": [
    "<a name = Section63></a>\n",
    "### **6.3 Test Data**"
   ]
  },
  {
   "cell_type": "code",
   "execution_count": 127,
   "metadata": {},
   "outputs": [],
   "source": [
    "final_test=pd.read_csv('existing_base_test.csv')"
   ]
  },
  {
   "cell_type": "code",
   "execution_count": 128,
   "metadata": {},
   "outputs": [
    {
     "data": {
      "text/plain": [
       "(2031, 37)"
      ]
     },
     "execution_count": 128,
     "metadata": {},
     "output_type": "execute_result"
    }
   ],
   "source": [
    "#y_pred_final=model.predict(final_test)\n",
    "def home_stat(g):\n",
    "    if g =='Own Home':\n",
    "        return 'Owner'\n",
    "    elif g == 'Rent Privately':\n",
    "        return 'Rent'\n",
    "    elif g == 'Rent from Council/HA':\n",
    "        return 'Rent'\n",
    "    elif g == 'Live in Parental Hom':\n",
    "        return 'Rent'\n",
    "    elif g in 'Unclassified':\n",
    "        return 'Rent'\n",
    "working=['Professional','Manual Worker','Business Manager','Secretarial/Admin','Other']\n",
    "non_working=['Retired','Housewife','Student']\n",
    "def occ(g):\n",
    "    if (g.occupation in working) & (g.occupation_partner in working):\n",
    "        return 'both_working'\n",
    "    elif (g.occupation in non_working) & (g.occupation_partner in non_working):\n",
    "        return 'both_non_working'\n",
    "    else:\n",
    "        return 'single'\n",
    "def self_emp(g):\n",
    "    if (g.self_employed == 'Yes') & (g.self_employed_partner == 'Yes'):\n",
    "        return 'both_yes'\n",
    "    elif (g.self_employed == 'No') & (g.self_employed_partner == 'No'):\n",
    "        return 'both_no'\n",
    "    else:\n",
    "        return 'single'\n",
    "\n",
    "\n",
    "def feature_engg():\n",
    "    final_test['children']=final_test['children'].replace('Zero','0')\n",
    "    final_test['children']=final_test['children'].replace('4+','4')\n",
    "    final_test['family_income']=final_test['family_income'].replace(['>=35,000','<22,500, >=20,000','<25,000, >=22,500','<30,000, >=27,500', '<20,000, >=17,500','<27,500, >=25,000','< 4,000', '<15,000, >=12,500', '<17,500, >=15,000','< 8,000, >= 4,000', '<12,500, >=10,000', '<10,000, >= 8,000'],['35000+','20,000-22,500','22,500-25,000','27,500-27,500','17,500-20,000','25,000-27,500','0-4,000','12,500-15,000','15,000-17,500','4,000-8,000','10,000-12,500','8,000-10,000'])\n",
    "    final_test['total_invest']=final_test.Investment_in_Mutual_Fund+final_test.Investment_Tax_Saving_Bond+final_test.Portfolio_Balance\n",
    "    final_test['total_loan']=final_test.Personal_Loan+final_test.Home_Loan\n",
    "    final_test['total_isurance']=final_test.Life_Insurance+final_test.Medical_Insurance\n",
    "    final_test['home_status_new']=final_test['home_status'].apply(home_stat)\n",
    "    final_test['occupation_Status_new']=final_test.apply(occ,axis=1)\n",
    "    final_test['self_employed_new']=final_test.apply(self_emp,axis=1)\n",
    "feature_engg()\n",
    "final_test.shape\n"
   ]
  },
  {
   "cell_type": "code",
   "execution_count": 129,
   "metadata": {},
   "outputs": [],
   "source": [
    "final_test_new=final_test[['REF_NO','children','age_band','status','family_income','post_area','Average_Credit_Card_Transaction','Balance_Transfer','Term_Deposit', 'total_isurance','Average_A/C_Balance','Online_Purchase_Amount','gender', 'region','total_invest', 'total_loan', 'home_status_new','occupation_Status_new', 'self_employed_new']]"
   ]
  },
  {
   "cell_type": "code",
   "execution_count": 130,
   "metadata": {},
   "outputs": [],
   "source": [
    "def encoding_stat(final_test_new):\n",
    "    stat=pd.get_dummies(final_test_new.status)\n",
    "    stat.head(10)\n",
    "    stat.drop('Unknown',axis=1,inplace=True)\n",
    "    final_test_new=pd.concat([final_test_new,stat],axis=1)\n",
    "    return final_test_new\n",
    "final_test_new=encoding_stat(final_test_new)\n",
    "def encoding(final_test_new):\n",
    "    cat_columns=['home_status_new','occupation_Status_new','self_employed_new']\n",
    "    cat_dum=pd.get_dummies(final_test_new[cat_columns],drop_first=True)\n",
    "    final_test_new=pd.concat([final_test_new,cat_dum],axis=1)\n",
    "    return final_test_new\n",
    "final_test_new=encoding(final_test_new)\n",
    "final_test_new.drop(['home_status_new','occupation_Status_new','self_employed_new','status'],axis=1,inplace=True)\n",
    "def encoding_gender(final_test_new):\n",
    "    gender=pd.get_dummies(final_test_new.gender)\n",
    "    #gender.head(10)\n",
    "    gender.drop('Unknown',axis=1,inplace=True)\n",
    "    final_test_new=pd.concat([final_test_new,gender],axis=1)\n",
    "    return final_test_new\n",
    "final_test_new=encoding_gender(final_test_new)\n",
    "final_test_new.drop('gender',axis=1,inplace=True)#label encoding for age_band\n",
    "ageband_map={\n",
    "                'Unknown':0, '18-21':1, '22-25':2,'26-30':3, '31-35':4,'36-40':5,'41-45':6, '45-50':7,\n",
    "                 '51-55':8,'55-60':9, '61-65':10, '65-70':11,'71+':12 \n",
    "}\n",
    "final_test_new['ageband_ordinal']=final_test_new.age_band.map(ageband_map)\n",
    "final_test_new.drop('age_band',axis=1,inplace=True)\n",
    "#label encoding for family income\n",
    "family_income_map={\n",
    "                'Unknown':0, '0-4,000':1, '4,000-8,000':2,'8,000-10,000':3, '10,000-12,500':4,'12,500-15,000':5,'15,000-17,500':6, '17,500-20,000':7,\n",
    "                 '20,000-22,500':8,'22,500-25,000':9, '25,000-27,500':10, '27,500-27,500':11,'35000+':12 \n",
    "}\n",
    "final_test_new['family_income_ordinal']=final_test_new.family_income.map(family_income_map)\n",
    "final_test_new.drop('family_income',axis=1,inplace=True)\n",
    "#reg=final_test_new.groupby('region').size()/len(final_test_new)\n",
    "#final_test_new.loc[:,'region_encoded']=final_test_new.region.map(reg)\n",
    "independent_cols=['REF_NO', 'children', 'Average_Credit_Card_Transaction',\n",
    "       'Balance_Transfer', 'Term_Deposit', 'total_isurance',\n",
    "       'Average_A/C_Balance', 'Online_Purchase_Amount', 'total_invest',\n",
    "       'total_loan', 'Divorced/Separated', 'Partner',\n",
    "       'Single/Never Married', 'Widowed', 'home_status_new_Rent',\n",
    "       'occupation_Status_new_both_working', 'occupation_Status_new_single',\n",
    "       'self_employed_new_both_yes', 'self_employed_new_single', 'Female',\n",
    "       'Male', 'ageband_ordinal', 'family_income_ordinal']\n",
    "X=final_test_new[independent_cols]"
   ]
  },
  {
   "cell_type": "code",
   "execution_count": 131,
   "metadata": {},
   "outputs": [
    {
     "data": {
      "text/plain": [
       "(2031, 23)"
      ]
     },
     "execution_count": 131,
     "metadata": {},
     "output_type": "execute_result"
    }
   ],
   "source": [
    "X.shape"
   ]
  },
  {
   "cell_type": "code",
   "execution_count": 132,
   "metadata": {},
   "outputs": [
    {
     "data": {
      "text/plain": [
       "Index(['REF_NO', 'children', 'Average_Credit_Card_Transaction',\n",
       "       'Balance_Transfer', 'Term_Deposit', 'total_isurance',\n",
       "       'Average_A/C_Balance', 'Online_Purchase_Amount', 'total_invest',\n",
       "       'total_loan', 'Divorced/Separated', 'Partner', 'Single/Never Married',\n",
       "       'Widowed', 'home_status_new_Rent', 'occupation_Status_new_both_working',\n",
       "       'occupation_Status_new_single', 'self_employed_new_both_yes',\n",
       "       'self_employed_new_single', 'Female', 'Male', 'ageband_ordinal',\n",
       "       'family_income_ordinal'],\n",
       "      dtype='object')"
      ]
     },
     "execution_count": 132,
     "metadata": {},
     "output_type": "execute_result"
    }
   ],
   "source": [
    "X.columns"
   ]
  },
  {
   "cell_type": "code",
   "execution_count": null,
   "metadata": {},
   "outputs": [],
   "source": []
  },
  {
   "cell_type": "code",
   "execution_count": 133,
   "metadata": {},
   "outputs": [],
   "source": [
    "from sklearn.preprocessing import RobustScaler\n",
    "robust = RobustScaler()\n",
    "X[independent_cols] = robust.fit_transform(X)\n",
    "#X_test[independent_cols] = robust.transform(X_test)"
   ]
  },
  {
   "cell_type": "code",
   "execution_count": 134,
   "metadata": {},
   "outputs": [],
   "source": [
    "y_pred_final=logreg.predict(X)"
   ]
  },
  {
   "cell_type": "code",
   "execution_count": 135,
   "metadata": {},
   "outputs": [],
   "source": [
    "df3 = pd.DataFrame({\"Ref_no\":final_test_new.REF_NO,\"Revenue_grid\":y_pred_final})"
   ]
  },
  {
   "cell_type": "code",
   "execution_count": 136,
   "metadata": {},
   "outputs": [],
   "source": [
    "df3.to_csv('cust_classification_output.csv',index=False, header=False)"
   ]
  },
  {
   "cell_type": "code",
   "execution_count": 137,
   "metadata": {},
   "outputs": [
    {
     "data": {
      "text/plain": [
       "2    1925\n",
       "1     106\n",
       "Name: Revenue_grid, dtype: int64"
      ]
     },
     "execution_count": 137,
     "metadata": {},
     "output_type": "execute_result"
    }
   ],
   "source": [
    "df3.Revenue_grid.value_counts()"
   ]
  }
 ],
 "metadata": {
  "kernelspec": {
   "display_name": "Python 3",
   "language": "python",
   "name": "python3"
  },
  "language_info": {
   "codemirror_mode": {
    "name": "ipython",
    "version": 3
   },
   "file_extension": ".py",
   "mimetype": "text/x-python",
   "name": "python",
   "nbconvert_exporter": "python",
   "pygments_lexer": "ipython3",
   "version": "3.8.5"
  }
 },
 "nbformat": 4,
 "nbformat_minor": 4
}
